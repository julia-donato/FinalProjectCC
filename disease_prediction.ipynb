{
 "cells": [
  {
   "cell_type": "markdown",
   "metadata": {
    "colab_type": "text",
    "id": "M27qF7CTrBqc",
    "tags": []
   },
   "source": [
    "# Create testing and training sets"
   ]
  },
  {
   "cell_type": "code",
   "execution_count": 91,
   "metadata": {
    "tags": []
   },
   "outputs": [],
   "source": [
    "!export PATH=/Library/TeX/texbin:$PATH"
   ]
  },
  {
   "cell_type": "code",
   "execution_count": 12,
   "metadata": {
    "colab": {
     "base_uri": "https://localhost:8080/",
     "height": 71
    },
    "colab_type": "code",
    "id": "S0Cx3743urFY",
    "outputId": "b820039b-7ccb-4a68-8206-77bae97680dc",
    "scrolled": true,
    "tags": []
   },
   "outputs": [],
   "source": [
    "import pandas as pd\n",
    "import numpy as np\n",
    "import seaborn as sns\n",
    "import matplotlib.pyplot as plt\n",
    "%matplotlib inline"
   ]
  },
  {
   "cell_type": "code",
   "execution_count": 13,
   "metadata": {
    "colab": {},
    "colab_type": "code",
    "id": "tjIiJdM4u1IE",
    "tags": []
   },
   "outputs": [],
   "source": [
    "# read the csv file \n",
    "# will take in any cleaned dataset and the rest of the code will work\n",
    "data_df = pd.read_csv(\"heart.csv\", sep=\",\")"
   ]
  },
  {
   "cell_type": "code",
   "execution_count": 14,
   "metadata": {
    "colab": {
     "base_uri": "https://localhost:8080/",
     "height": 204
    },
    "colab_type": "code",
    "id": "q4_wPDKCu5Uc",
    "outputId": "886d2aaf-0205-4f46-96a7-629d0f367d2f",
    "tags": []
   },
   "outputs": [
    {
     "data": {
      "text/html": [
       "<div>\n",
       "<style scoped>\n",
       "    .dataframe tbody tr th:only-of-type {\n",
       "        vertical-align: middle;\n",
       "    }\n",
       "\n",
       "    .dataframe tbody tr th {\n",
       "        vertical-align: top;\n",
       "    }\n",
       "\n",
       "    .dataframe thead th {\n",
       "        text-align: right;\n",
       "    }\n",
       "</style>\n",
       "<table border=\"1\" class=\"dataframe\">\n",
       "  <thead>\n",
       "    <tr style=\"text-align: right;\">\n",
       "      <th></th>\n",
       "      <th>age</th>\n",
       "      <th>sex</th>\n",
       "      <th>cp</th>\n",
       "      <th>trestbps</th>\n",
       "      <th>chol</th>\n",
       "      <th>fbs</th>\n",
       "      <th>restecg</th>\n",
       "      <th>thalach</th>\n",
       "      <th>exang</th>\n",
       "      <th>oldpeak</th>\n",
       "      <th>slope</th>\n",
       "      <th>ca</th>\n",
       "      <th>thal</th>\n",
       "      <th>target</th>\n",
       "    </tr>\n",
       "  </thead>\n",
       "  <tbody>\n",
       "    <tr>\n",
       "      <th>0</th>\n",
       "      <td>52</td>\n",
       "      <td>1</td>\n",
       "      <td>0</td>\n",
       "      <td>125</td>\n",
       "      <td>212</td>\n",
       "      <td>0</td>\n",
       "      <td>1</td>\n",
       "      <td>168</td>\n",
       "      <td>0</td>\n",
       "      <td>1.0</td>\n",
       "      <td>2</td>\n",
       "      <td>2</td>\n",
       "      <td>3</td>\n",
       "      <td>0</td>\n",
       "    </tr>\n",
       "    <tr>\n",
       "      <th>1</th>\n",
       "      <td>53</td>\n",
       "      <td>1</td>\n",
       "      <td>0</td>\n",
       "      <td>140</td>\n",
       "      <td>203</td>\n",
       "      <td>1</td>\n",
       "      <td>0</td>\n",
       "      <td>155</td>\n",
       "      <td>1</td>\n",
       "      <td>3.1</td>\n",
       "      <td>0</td>\n",
       "      <td>0</td>\n",
       "      <td>3</td>\n",
       "      <td>0</td>\n",
       "    </tr>\n",
       "    <tr>\n",
       "      <th>2</th>\n",
       "      <td>70</td>\n",
       "      <td>1</td>\n",
       "      <td>0</td>\n",
       "      <td>145</td>\n",
       "      <td>174</td>\n",
       "      <td>0</td>\n",
       "      <td>1</td>\n",
       "      <td>125</td>\n",
       "      <td>1</td>\n",
       "      <td>2.6</td>\n",
       "      <td>0</td>\n",
       "      <td>0</td>\n",
       "      <td>3</td>\n",
       "      <td>0</td>\n",
       "    </tr>\n",
       "    <tr>\n",
       "      <th>3</th>\n",
       "      <td>61</td>\n",
       "      <td>1</td>\n",
       "      <td>0</td>\n",
       "      <td>148</td>\n",
       "      <td>203</td>\n",
       "      <td>0</td>\n",
       "      <td>1</td>\n",
       "      <td>161</td>\n",
       "      <td>0</td>\n",
       "      <td>0.0</td>\n",
       "      <td>2</td>\n",
       "      <td>1</td>\n",
       "      <td>3</td>\n",
       "      <td>0</td>\n",
       "    </tr>\n",
       "    <tr>\n",
       "      <th>4</th>\n",
       "      <td>62</td>\n",
       "      <td>0</td>\n",
       "      <td>0</td>\n",
       "      <td>138</td>\n",
       "      <td>294</td>\n",
       "      <td>1</td>\n",
       "      <td>1</td>\n",
       "      <td>106</td>\n",
       "      <td>0</td>\n",
       "      <td>1.9</td>\n",
       "      <td>1</td>\n",
       "      <td>3</td>\n",
       "      <td>2</td>\n",
       "      <td>0</td>\n",
       "    </tr>\n",
       "  </tbody>\n",
       "</table>\n",
       "</div>"
      ],
      "text/plain": [
       "   age  sex  cp  trestbps  chol  fbs  restecg  thalach  exang  oldpeak  slope  \\\n",
       "0   52    1   0       125   212    0        1      168      0      1.0      2   \n",
       "1   53    1   0       140   203    1        0      155      1      3.1      0   \n",
       "2   70    1   0       145   174    0        1      125      1      2.6      0   \n",
       "3   61    1   0       148   203    0        1      161      0      0.0      2   \n",
       "4   62    0   0       138   294    1        1      106      0      1.9      1   \n",
       "\n",
       "   ca  thal  target  \n",
       "0   2     3       0  \n",
       "1   0     3       0  \n",
       "2   0     3       0  \n",
       "3   1     3       0  \n",
       "4   3     2       0  "
      ]
     },
     "execution_count": 14,
     "metadata": {},
     "output_type": "execute_result"
    }
   ],
   "source": [
    "data_df.head()"
   ]
  },
  {
   "cell_type": "code",
   "execution_count": null,
   "metadata": {
    "tags": []
   },
   "outputs": [],
   "source": [
    "cardio_df.head()"
   ]
  },
  {
   "cell_type": "code",
   "execution_count": null,
   "metadata": {
    "colab": {
     "base_uri": "https://localhost:8080/",
     "height": 170
    },
    "colab_type": "code",
    "id": "6JYkJo9pYaet",
    "outputId": "fcc89a98-b0a9-499d-acde-e480e78dccfc",
    "tags": []
   },
   "outputs": [],
   "source": [
    "# checking the null values\n",
    "cardio_df.isnull().sum()"
   ]
  },
  {
   "cell_type": "code",
   "execution_count": null,
   "metadata": {
    "colab": {
     "base_uri": "https://localhost:8080/",
     "height": 272
    },
    "colab_type": "code",
    "id": "hMq3-KWOx0e1",
    "outputId": "22a5b184-1f07-46ef-dfc1-f8377fd7042f",
    "tags": []
   },
   "outputs": [],
   "source": [
    "# Checking the dataframe information\n",
    "\n",
    "cardio_df.info()"
   ]
  },
  {
   "cell_type": "code",
   "execution_count": null,
   "metadata": {
    "colab": {
     "base_uri": "https://localhost:8080/",
     "height": 297
    },
    "colab_type": "code",
    "id": "Nn1Oxk2SzPX3",
    "outputId": "95f0265a-5e75-4a32-d771-4b3d15850c3c",
    "tags": []
   },
   "outputs": [],
   "source": [
    "# Statistical summary of the dataframe\n",
    "cardio_df.describe()"
   ]
  },
  {
   "cell_type": "code",
   "execution_count": 17,
   "metadata": {
    "colab": {
     "base_uri": "https://localhost:8080/",
     "height": 68
    },
    "colab_type": "code",
    "id": "8QQTkOBL1yUR",
    "outputId": "e79771c7-a34d-430f-db8a-fa4c1253af78",
    "tags": []
   },
   "outputs": [
    {
     "data": {
      "text/plain": [
       "Index(['age', 'sex', 'cp', 'trestbps', 'chol', 'fbs', 'restecg', 'thalach',\n",
       "       'exang', 'oldpeak', 'slope', 'ca', 'thal', 'target'],\n",
       "      dtype='object')"
      ]
     },
     "execution_count": 17,
     "metadata": {},
     "output_type": "execute_result"
    }
   ],
   "source": [
    "data_df.columns"
   ]
  },
  {
   "cell_type": "code",
   "execution_count": 18,
   "metadata": {
    "colab": {},
    "colab_type": "code",
    "id": "GoReLFfnA6uF",
    "tags": []
   },
   "outputs": [],
   "source": [
    "#spliting the data in to test and train sets\n",
    "from sklearn.model_selection import train_test_split\n",
    "df_target = data_df['target']\n",
    "df_final = data_df.drop(columns =['target'])\n",
    "X_train, X_test, y_train, y_test = train_test_split(df_final, df_target, test_size = 0.2)\n",
    "\n"
   ]
  },
  {
   "cell_type": "code",
   "execution_count": 19,
   "metadata": {
    "tags": []
   },
   "outputs": [
    {
     "name": "stdout",
     "output_type": "stream",
     "text": [
      "\u001b[33mWARNING: The directory '/root/.cache/pip' or its parent directory is not owned or is not writable by the current user. The cache has been disabled. Check the permissions and owner of that directory. If executing pip with sudo, you should use sudo's -H flag.\u001b[0m\u001b[33m\n",
      "\u001b[0mRequirement already satisfied: xgboost in /opt/conda/lib/python3.7/site-packages (1.6.2)\n",
      "Requirement already satisfied: numpy in /opt/conda/lib/python3.7/site-packages (from xgboost) (1.18.1)\n",
      "Requirement already satisfied: scipy in /opt/conda/lib/python3.7/site-packages (from xgboost) (1.4.1)\n",
      "\u001b[33mWARNING: Running pip as the 'root' user can result in broken permissions and conflicting behaviour with the system package manager. It is recommended to use a virtual environment instead: https://pip.pypa.io/warnings/venv\u001b[0m\u001b[33m\n",
      "\u001b[0m"
     ]
    }
   ],
   "source": [
    "# install xgboost\n",
    "\n",
    "!pip install xgboost"
   ]
  },
  {
   "cell_type": "code",
   "execution_count": 20,
   "metadata": {
    "colab": {
     "base_uri": "https://localhost:8080/",
     "height": 34
    },
    "colab_type": "code",
    "id": "yHL-6mKwBURs",
    "outputId": "10d71b6d-9c2b-4bab-8b27-d3c5883e6a25",
    "tags": []
   },
   "outputs": [
    {
     "data": {
      "text/plain": [
       "XGBClassifier(base_score=0.5, booster='gbtree', callbacks=None,\n",
       "              colsample_bylevel=1, colsample_bynode=1, colsample_bytree=1,\n",
       "              early_stopping_rounds=None, enable_categorical=False,\n",
       "              eval_metric=None, gamma=0, gpu_id=-1, grow_policy='depthwise',\n",
       "              importance_type=None, interaction_constraints='',\n",
       "              learning_rate=0.01, max_bin=256, max_cat_to_onehot=4,\n",
       "              max_delta_step=0, max_depth=20, max_leaves=0, min_child_weight=1,\n",
       "              missing=nan, monotone_constraints='()', n_estimators=500,\n",
       "              n_jobs=0, num_parallel_tree=1, objective='binary:logistic',\n",
       "              predictor='auto', random_state=0, reg_alpha=0, ...)"
      ]
     },
     "execution_count": 20,
     "metadata": {},
     "output_type": "execute_result"
    }
   ],
   "source": [
    "# use xgboost model in local mode\n",
    "\n",
    "# note that we have not performed any normalization or scaling since XGBoost is not sensitive to this.\n",
    "# XGboost is a type of ensemble algorithms and works by selecting thresholds or cut points on features to split a node. \n",
    "# It doesn't really matter if the features are scaled or not.\n",
    "\n",
    "\n",
    "from xgboost import XGBClassifier\n",
    "\n",
    "# model = XGBClassifier(learning_rate=0.01, n_estimators=100, objective='binary:logistic')\n",
    "model = XGBClassifier(learning_rate =0.01, n_estimators = 500, max_depth = 20)\n",
    "\n",
    "model.fit(X_train, y_train)"
   ]
  },
  {
   "cell_type": "code",
   "execution_count": null,
   "metadata": {
    "tags": []
   },
   "outputs": [],
   "source": [
    "# make predictions on test data\n",
    "\n",
    "predict = model.predict(X_test)"
   ]
  },
  {
   "cell_type": "code",
   "execution_count": null,
   "metadata": {
    "tags": []
   },
   "outputs": [],
   "source": [
    "predict"
   ]
  },
  {
   "cell_type": "code",
   "execution_count": null,
   "metadata": {
    "tags": []
   },
   "outputs": [],
   "source": [
    "# Assess trained model performance on training dataset\n",
    "predict_train = model.predict(X_train)\n",
    "from sklearn.metrics import confusion_matrix\n",
    "cm = confusion_matrix(y_train, predict_train)\n",
    "plt.figure()\n",
    "sns.heatmap(cm, annot=True)"
   ]
  },
  {
   "cell_type": "code",
   "execution_count": null,
   "metadata": {
    "tags": []
   },
   "outputs": [],
   "source": [
    "# print metrics for training dataset\n",
    "\n",
    "from sklearn.metrics import precision_score, recall_score, accuracy_score\n",
    "\n",
    "print(\"Precision = {}\".format(precision_score(y_train, predict_train)))\n",
    "print(\"Recall = {}\".format(recall_score(y_train, predict_train)))\n",
    "print(\"Accuracy = {}\".format(accuracy_score(y_train, predict_train)))"
   ]
  },
  {
   "cell_type": "code",
   "execution_count": null,
   "metadata": {
    "tags": []
   },
   "outputs": [],
   "source": [
    "# print metrics for testing dataset\n",
    "\n",
    "print(\"Precision = {}\".format(precision_score(y_test, predict)))\n",
    "print(\"Recall = {}\".format(recall_score(y_test, predict)))\n",
    "print(\"Accuracy = {}\".format(accuracy_score(y_test, predict)))"
   ]
  },
  {
   "cell_type": "code",
   "execution_count": null,
   "metadata": {
    "tags": []
   },
   "outputs": [],
   "source": [
    "# plot the confusion matrix\n",
    "\n",
    "from sklearn.metrics import confusion_matrix\n",
    "cm = confusion_matrix(y_test, predict)\n",
    "plt.figure()\n",
    "sns.heatmap(cm, annot=True)"
   ]
  },
  {
   "cell_type": "markdown",
   "metadata": {},
   "source": [
    "MINI CHALLENGE\n",
    "- Attempt to tune the XGBoost classifier using gridsearch, start with the param_grid listed below\n",
    "- Check out these great resources: https://towardsdatascience.com/fine-tuning-xgboost-in-python-like-a-boss-b4543ed8b1e\n"
   ]
  },
  {
   "cell_type": "code",
   "execution_count": null,
   "metadata": {},
   "outputs": [],
   "source": [
    "param_grid = {\n",
    "        'gamma': [0.5, 1, 5],   # regularization parameter \n",
    "        'subsample': [0.6, 0.8, 1.0], # % of rows taken to build each tree\n",
    "        'colsample_bytree': [0.6, 0.8, 1.0], # number of columns used by each tree\n",
    "        'max_depth': [3, 4, 5] # depth of each tree\n",
    "        }"
   ]
  },
  {
   "cell_type": "code",
   "execution_count": null,
   "metadata": {},
   "outputs": [],
   "source": []
  },
  {
   "cell_type": "code",
   "execution_count": null,
   "metadata": {},
   "outputs": [],
   "source": [
    "y_predict_optim = grid.predict(X_test)"
   ]
  },
  {
   "cell_type": "code",
   "execution_count": null,
   "metadata": {},
   "outputs": [],
   "source": [
    "y_predict_optim"
   ]
  },
  {
   "cell_type": "code",
   "execution_count": null,
   "metadata": {},
   "outputs": [],
   "source": [
    "# print metrics for testing dataset\n",
    "\n",
    "print(\"Precision = {}\".format(precision_score(y_test, y_predict_optim)))\n",
    "print(\"Recall = {}\".format(recall_score(y_test, y_predict_optim)))\n",
    "print(\"Accuracy = {}\".format(accuracy_score(y_test, y_predict_optim)))"
   ]
  },
  {
   "cell_type": "markdown",
   "metadata": {},
   "source": [
    "# TASK #7: PERFORM DIMENSIONALITY REDUCTION USING PCA ( USING SAGEMAKER)"
   ]
  },
  {
   "cell_type": "code",
   "execution_count": 21,
   "metadata": {
    "tags": []
   },
   "outputs": [],
   "source": [
    "# Create sagemaker session\n",
    "import sagemaker\n",
    "import boto3\n",
    "from sagemaker import Session\n",
    "\n",
    "sagemaker_session = sagemaker.Session()\n",
    "bucket = 'finalproject-jmd'\n",
    "prefix = 'Data'"
   ]
  },
  {
   "cell_type": "code",
   "execution_count": 22,
   "metadata": {},
   "outputs": [
    {
     "data": {
      "text/plain": [
       "0"
      ]
     },
     "execution_count": 22,
     "metadata": {},
     "output_type": "execute_result"
    }
   ],
   "source": [
    "import io \n",
    "import numpy as np\n",
    "import sagemaker.amazon.common as smac\n",
    "\n",
    "# Covert the data in numpy array format to RecordIO format\n",
    "\n",
    "buf = io.BytesIO()\n",
    "df_matrix = df_final.to_numpy() \n",
    "smac.write_numpy_to_dense_tensor(buf, df_matrix)\n",
    "buf.seek(0)"
   ]
  },
  {
   "cell_type": "code",
   "execution_count": 23,
   "metadata": {},
   "outputs": [
    {
     "name": "stdout",
     "output_type": "stream",
     "text": [
      "uploaded training data location: s3://finalproject-jmd/Data/train/pca\n"
     ]
    }
   ],
   "source": [
    "import os\n",
    "\n",
    "# Upload RecordIO data to S3\n",
    " \n",
    "key = 'pca'\n",
    "\n",
    "boto3.resource('s3').Bucket(bucket).Object(os.path.join(prefix, 'train', key)).upload_fileobj(buf)\n",
    "\n",
    "s3_train_data = 's3://{}/{}/train/{}'.format(bucket, prefix, key)\n",
    "\n",
    "print('uploaded training data location: {}'.format(s3_train_data))"
   ]
  },
  {
   "cell_type": "code",
   "execution_count": 24,
   "metadata": {},
   "outputs": [
    {
     "name": "stdout",
     "output_type": "stream",
     "text": [
      "training artifacts will be uploaded to: s3://finalproject-jmd/Data/output\n"
     ]
    }
   ],
   "source": [
    "# create output placeholder in S3 bucket to store the PCA output\n",
    "\n",
    "output_location = 's3://{}/{}/output'.format(bucket, prefix)\n",
    "print('training artifacts will be uploaded to: {}'.format(output_location))"
   ]
  },
  {
   "cell_type": "code",
   "execution_count": 25,
   "metadata": {},
   "outputs": [
    {
     "name": "stderr",
     "output_type": "stream",
     "text": [
      "The method get_image_uri has been renamed in sagemaker>=2.\n",
      "See: https://sagemaker.readthedocs.io/en/stable/v2.html for details.\n"
     ]
    }
   ],
   "source": [
    "# Get the training container of sagemaker built-in algorithms\n",
    "\n",
    "from sagemaker.amazon.amazon_estimator import get_image_uri\n",
    "\n",
    "\n",
    "container = get_image_uri(boto3.Session().region_name, 'pca')"
   ]
  },
  {
   "cell_type": "code",
   "execution_count": 26,
   "metadata": {},
   "outputs": [
    {
     "name": "stderr",
     "output_type": "stream",
     "text": [
      "INFO:sagemaker:Creating training-job with name: pca-2023-04-21-00-40-27-629\n"
     ]
    },
    {
     "name": "stdout",
     "output_type": "stream",
     "text": [
      "2023-04-21 00:40:28 Starting - Starting the training job...\n",
      "2023-04-21 00:40:43 Starting - Preparing the instances for training......\n",
      "2023-04-21 00:41:50 Downloading - Downloading input data...\n",
      "2023-04-21 00:42:10 Training - Downloading the training image......\n",
      "2023-04-21 00:43:31 Training - Training image download completed. Training in progress...\u001b[34mDocker entrypoint called with argument(s): train\u001b[0m\n",
      "\u001b[34mRunning default environment configuration script\u001b[0m\n",
      "\u001b[34m[04/21/2023 00:43:41 INFO 140610297489216] Reading default configuration from /opt/amazon/lib/python3.7/site-packages/algorithm/resources/default-conf.json: {'algorithm_mode': 'regular', 'subtract_mean': 'true', 'extra_components': '-1', 'force_dense': 'true', 'epochs': 1, '_log_level': 'info', '_kvstore': 'dist_sync', '_num_kv_servers': 'auto', '_num_gpus': 'auto'}\u001b[0m\n",
      "\u001b[34m[04/21/2023 00:43:41 INFO 140610297489216] Merging with provided configuration from /opt/ml/input/config/hyperparameters.json: {'algorithm_mode': 'regular', 'feature_dim': '13', 'mini_batch_size': '100', 'num_components': '6', 'subtract_mean': 'False'}\u001b[0m\n",
      "\u001b[34m[04/21/2023 00:43:41 INFO 140610297489216] Final configuration: {'algorithm_mode': 'regular', 'subtract_mean': 'False', 'extra_components': '-1', 'force_dense': 'true', 'epochs': 1, '_log_level': 'info', '_kvstore': 'dist_sync', '_num_kv_servers': 'auto', '_num_gpus': 'auto', 'feature_dim': '13', 'mini_batch_size': '100', 'num_components': '6'}\u001b[0m\n",
      "\u001b[34m[04/21/2023 00:43:41 WARNING 140610297489216] Loggers have already been setup.\u001b[0m\n",
      "\u001b[34m[04/21/2023 00:43:41 INFO 140610297489216] Launching parameter server for role scheduler\u001b[0m\n",
      "\u001b[34m[04/21/2023 00:43:41 INFO 140610297489216] {'ENVROOT': '/opt/amazon', 'PROTOCOL_BUFFERS_PYTHON_IMPLEMENTATION': 'cpp', 'HOSTNAME': 'ip-10-0-76-83.us-east-2.compute.internal', 'TRAINING_JOB_NAME': 'pca-2023-04-21-00-40-27-629', 'NVIDIA_REQUIRE_CUDA': 'cuda>=9.0', 'TRAINING_JOB_ARN': 'arn:aws:sagemaker:us-east-2:589665358636:training-job/pca-2023-04-21-00-40-27-629', 'AWS_CONTAINER_CREDENTIALS_RELATIVE_URI': '/v2/credentials/proxy-c58972175fca6a2c6ad74d8905fd2b3d1da8379662956137b1b0d2b3ebc6c3a6-customer', 'CANONICAL_ENVROOT': '/opt/amazon', 'PYTHONUNBUFFERED': 'TRUE', 'NVIDIA_VISIBLE_DEVICES': 'all', 'LD_LIBRARY_PATH': '/opt/amazon/lib/python3.7/site-packages/cv2/../../../../lib:/usr/local/nvidia/lib64:/opt/amazon/lib', 'NVIDIA_DRIVER_CAPABILITIES': 'compute,utility', 'PATH': '/opt/amazon/bin:/usr/local/nvidia/bin:/usr/local/sbin:/usr/local/bin:/usr/sbin:/usr/bin:/sbin:/bin', 'PWD': '/', 'LANG': 'en_US.utf8', 'AWS_REGION': 'us-east-2', 'CUDA_VERSION': '11.1', 'HOME': '/root', 'SHLVL': '1', 'CUDA_COMPAT_NDRIVER_SUPPORTED_VERSION': '455.32.00', 'PROTOCOL_BUFFERS_PYTHON_IMPLEMENTATION_VERSION': '2', 'OMP_NUM_THREADS': '2', 'DMLC_INTERFACE': 'eth0', 'SAGEMAKER_HTTP_PORT': '8080', 'SAGEMAKER_DATA_PATH': '/opt/ml'}\u001b[0m\n",
      "\u001b[34m[04/21/2023 00:43:41 INFO 140610297489216] envs={'ENVROOT': '/opt/amazon', 'PROTOCOL_BUFFERS_PYTHON_IMPLEMENTATION': 'cpp', 'HOSTNAME': 'ip-10-0-76-83.us-east-2.compute.internal', 'TRAINING_JOB_NAME': 'pca-2023-04-21-00-40-27-629', 'NVIDIA_REQUIRE_CUDA': 'cuda>=9.0', 'TRAINING_JOB_ARN': 'arn:aws:sagemaker:us-east-2:589665358636:training-job/pca-2023-04-21-00-40-27-629', 'AWS_CONTAINER_CREDENTIALS_RELATIVE_URI': '/v2/credentials/proxy-c58972175fca6a2c6ad74d8905fd2b3d1da8379662956137b1b0d2b3ebc6c3a6-customer', 'CANONICAL_ENVROOT': '/opt/amazon', 'PYTHONUNBUFFERED': 'TRUE', 'NVIDIA_VISIBLE_DEVICES': 'all', 'LD_LIBRARY_PATH': '/opt/amazon/lib/python3.7/site-packages/cv2/../../../../lib:/usr/local/nvidia/lib64:/opt/amazon/lib', 'NVIDIA_DRIVER_CAPABILITIES': 'compute,utility', 'PATH': '/opt/amazon/bin:/usr/local/nvidia/bin:/usr/local/sbin:/usr/local/bin:/usr/sbin:/usr/bin:/sbin:/bin', 'PWD': '/', 'LANG': 'en_US.utf8', 'AWS_REGION': 'us-east-2', 'CUDA_VERSION': '11.1', 'HOME': '/root', 'SHLVL': '1', 'CUDA_COMPAT_NDRIVER_SUPPORTED_VERSION': '455.32.00', 'PROTOCOL_BUFFERS_PYTHON_IMPLEMENTATION_VERSION': '2', 'OMP_NUM_THREADS': '2', 'DMLC_INTERFACE': 'eth0', 'SAGEMAKER_HTTP_PORT': '8080', 'SAGEMAKER_DATA_PATH': '/opt/ml', 'DMLC_ROLE': 'scheduler', 'DMLC_PS_ROOT_URI': '10.0.76.83', 'DMLC_PS_ROOT_PORT': '9000', 'DMLC_NUM_SERVER': '1', 'DMLC_NUM_WORKER': '1'}\u001b[0m\n",
      "\u001b[34m[04/21/2023 00:43:41 INFO 140610297489216] Launching parameter server for role server\u001b[0m\n",
      "\u001b[34m[04/21/2023 00:43:41 INFO 140610297489216] {'ENVROOT': '/opt/amazon', 'PROTOCOL_BUFFERS_PYTHON_IMPLEMENTATION': 'cpp', 'HOSTNAME': 'ip-10-0-76-83.us-east-2.compute.internal', 'TRAINING_JOB_NAME': 'pca-2023-04-21-00-40-27-629', 'NVIDIA_REQUIRE_CUDA': 'cuda>=9.0', 'TRAINING_JOB_ARN': 'arn:aws:sagemaker:us-east-2:589665358636:training-job/pca-2023-04-21-00-40-27-629', 'AWS_CONTAINER_CREDENTIALS_RELATIVE_URI': '/v2/credentials/proxy-c58972175fca6a2c6ad74d8905fd2b3d1da8379662956137b1b0d2b3ebc6c3a6-customer', 'CANONICAL_ENVROOT': '/opt/amazon', 'PYTHONUNBUFFERED': 'TRUE', 'NVIDIA_VISIBLE_DEVICES': 'all', 'LD_LIBRARY_PATH': '/opt/amazon/lib/python3.7/site-packages/cv2/../../../../lib:/usr/local/nvidia/lib64:/opt/amazon/lib', 'NVIDIA_DRIVER_CAPABILITIES': 'compute,utility', 'PATH': '/opt/amazon/bin:/usr/local/nvidia/bin:/usr/local/sbin:/usr/local/bin:/usr/sbin:/usr/bin:/sbin:/bin', 'PWD': '/', 'LANG': 'en_US.utf8', 'AWS_REGION': 'us-east-2', 'CUDA_VERSION': '11.1', 'HOME': '/root', 'SHLVL': '1', 'CUDA_COMPAT_NDRIVER_SUPPORTED_VERSION': '455.32.00', 'PROTOCOL_BUFFERS_PYTHON_IMPLEMENTATION_VERSION': '2', 'OMP_NUM_THREADS': '2', 'DMLC_INTERFACE': 'eth0', 'SAGEMAKER_HTTP_PORT': '8080', 'SAGEMAKER_DATA_PATH': '/opt/ml'}\u001b[0m\n",
      "\u001b[34m[04/21/2023 00:43:41 INFO 140610297489216] envs={'ENVROOT': '/opt/amazon', 'PROTOCOL_BUFFERS_PYTHON_IMPLEMENTATION': 'cpp', 'HOSTNAME': 'ip-10-0-76-83.us-east-2.compute.internal', 'TRAINING_JOB_NAME': 'pca-2023-04-21-00-40-27-629', 'NVIDIA_REQUIRE_CUDA': 'cuda>=9.0', 'TRAINING_JOB_ARN': 'arn:aws:sagemaker:us-east-2:589665358636:training-job/pca-2023-04-21-00-40-27-629', 'AWS_CONTAINER_CREDENTIALS_RELATIVE_URI': '/v2/credentials/proxy-c58972175fca6a2c6ad74d8905fd2b3d1da8379662956137b1b0d2b3ebc6c3a6-customer', 'CANONICAL_ENVROOT': '/opt/amazon', 'PYTHONUNBUFFERED': 'TRUE', 'NVIDIA_VISIBLE_DEVICES': 'all', 'LD_LIBRARY_PATH': '/opt/amazon/lib/python3.7/site-packages/cv2/../../../../lib:/usr/local/nvidia/lib64:/opt/amazon/lib', 'NVIDIA_DRIVER_CAPABILITIES': 'compute,utility', 'PATH': '/opt/amazon/bin:/usr/local/nvidia/bin:/usr/local/sbin:/usr/local/bin:/usr/sbin:/usr/bin:/sbin:/bin', 'PWD': '/', 'LANG': 'en_US.utf8', 'AWS_REGION': 'us-east-2', 'CUDA_VERSION': '11.1', 'HOME': '/root', 'SHLVL': '1', 'CUDA_COMPAT_NDRIVER_SUPPORTED_VERSION': '455.32.00', 'PROTOCOL_BUFFERS_PYTHON_IMPLEMENTATION_VERSION': '2', 'OMP_NUM_THREADS': '2', 'DMLC_INTERFACE': 'eth0', 'SAGEMAKER_HTTP_PORT': '8080', 'SAGEMAKER_DATA_PATH': '/opt/ml', 'DMLC_ROLE': 'server', 'DMLC_PS_ROOT_URI': '10.0.76.83', 'DMLC_PS_ROOT_PORT': '9000', 'DMLC_NUM_SERVER': '1', 'DMLC_NUM_WORKER': '1'}\u001b[0m\n",
      "\u001b[34m[04/21/2023 00:43:41 INFO 140610297489216] Environment: {'ENVROOT': '/opt/amazon', 'PROTOCOL_BUFFERS_PYTHON_IMPLEMENTATION': 'cpp', 'HOSTNAME': 'ip-10-0-76-83.us-east-2.compute.internal', 'TRAINING_JOB_NAME': 'pca-2023-04-21-00-40-27-629', 'NVIDIA_REQUIRE_CUDA': 'cuda>=9.0', 'TRAINING_JOB_ARN': 'arn:aws:sagemaker:us-east-2:589665358636:training-job/pca-2023-04-21-00-40-27-629', 'AWS_CONTAINER_CREDENTIALS_RELATIVE_URI': '/v2/credentials/proxy-c58972175fca6a2c6ad74d8905fd2b3d1da8379662956137b1b0d2b3ebc6c3a6-customer', 'CANONICAL_ENVROOT': '/opt/amazon', 'PYTHONUNBUFFERED': 'TRUE', 'NVIDIA_VISIBLE_DEVICES': 'all', 'LD_LIBRARY_PATH': '/opt/amazon/lib/python3.7/site-packages/cv2/../../../../lib:/usr/local/nvidia/lib64:/opt/amazon/lib', 'NVIDIA_DRIVER_CAPABILITIES': 'compute,utility', 'PATH': '/opt/amazon/bin:/usr/local/nvidia/bin:/usr/local/sbin:/usr/local/bin:/usr/sbin:/usr/bin:/sbin:/bin', 'PWD': '/', 'LANG': 'en_US.utf8', 'AWS_REGION': 'us-east-2', 'CUDA_VERSION': '11.1', 'HOME': '/root', 'SHLVL': '1', 'CUDA_COMPAT_NDRIVER_SUPPORTED_VERSION': '455.32.00', 'PROTOCOL_BUFFERS_PYTHON_IMPLEMENTATION_VERSION': '2', 'OMP_NUM_THREADS': '2', 'DMLC_INTERFACE': 'eth0', 'SAGEMAKER_HTTP_PORT': '8080', 'SAGEMAKER_DATA_PATH': '/opt/ml', 'DMLC_ROLE': 'worker', 'DMLC_PS_ROOT_URI': '10.0.76.83', 'DMLC_PS_ROOT_PORT': '9000', 'DMLC_NUM_SERVER': '1', 'DMLC_NUM_WORKER': '1'}\u001b[0m\n",
      "\u001b[34mProcess 35 is a shell:scheduler.\u001b[0m\n",
      "\u001b[34mProcess 44 is a shell:server.\u001b[0m\n",
      "\u001b[34mProcess 7 is a worker.\u001b[0m\n",
      "\u001b[34m[04/21/2023 00:43:41 INFO 140610297489216] Using default worker.\u001b[0m\n",
      "\u001b[34m[04/21/2023 00:43:42 INFO 140610297489216] Loaded iterator creator application/x-labeled-vector-protobuf for content type ('application/x-labeled-vector-protobuf', '1.0')\u001b[0m\n",
      "\u001b[34m[04/21/2023 00:43:42 INFO 140610297489216] Loaded iterator creator application/x-recordio-protobuf for content type ('application/x-recordio-protobuf', '1.0')\u001b[0m\n",
      "\u001b[34m[04/21/2023 00:43:42 INFO 140610297489216] Loaded iterator creator protobuf for content type ('protobuf', '1.0')\u001b[0m\n",
      "\u001b[34m[04/21/2023 00:43:42 INFO 140610297489216] Checkpoint loading and saving are disabled.\u001b[0m\n",
      "\u001b[34m[04/21/2023 00:43:42 INFO 140610297489216] Create Store: dist_sync\u001b[0m\n",
      "\u001b[34m[04/21/2023 00:43:42 INFO 140610297489216] nvidia-smi: took 0.030 seconds to run.\u001b[0m\n",
      "\u001b[34m[04/21/2023 00:43:42 INFO 140610297489216] nvidia-smi identified 0 GPUs.\u001b[0m\n",
      "\u001b[34m[04/21/2023 00:43:42 INFO 140610297489216] Number of GPUs being used: 0\u001b[0m\n",
      "\u001b[34m[04/21/2023 00:43:42 INFO 140610297489216] The default executor is <PCAExecutor on cpu(0)>.\u001b[0m\n",
      "\u001b[34m[04/21/2023 00:43:42 INFO 140610297489216] 13 feature(s) found in 'data'.\u001b[0m\n",
      "\u001b[34m[04/21/2023 00:43:42 INFO 140610297489216] <PCAExecutor on cpu(0)> is assigned to batch slice from 0 to 99.\u001b[0m\n",
      "\u001b[34m#metrics {\"StartTime\": 1682037822.0905342, \"EndTime\": 1682037822.949121, \"Dimensions\": {\"Algorithm\": \"PCA\", \"Host\": \"algo-1\", \"Operation\": \"training\"}, \"Metrics\": {\"initialize.time\": {\"sum\": 835.8256816864014, \"count\": 1, \"min\": 835.8256816864014, \"max\": 835.8256816864014}}}\u001b[0m\n",
      "\u001b[34m#metrics {\"StartTime\": 1682037822.9492958, \"EndTime\": 1682037822.9493454, \"Dimensions\": {\"Algorithm\": \"PCA\", \"Host\": \"algo-1\", \"Operation\": \"training\", \"Meta\": \"init_train_data_iter\"}, \"Metrics\": {\"Total Records Seen\": {\"sum\": 0.0, \"count\": 1, \"min\": 0, \"max\": 0}, \"Total Batches Seen\": {\"sum\": 0.0, \"count\": 1, \"min\": 0, \"max\": 0}, \"Max Records Seen Between Resets\": {\"sum\": 0.0, \"count\": 1, \"min\": 0, \"max\": 0}, \"Max Batches Seen Between Resets\": {\"sum\": 0.0, \"count\": 1, \"min\": 0, \"max\": 0}, \"Reset Count\": {\"sum\": 0.0, \"count\": 1, \"min\": 0, \"max\": 0}, \"Number of Records Since Last Reset\": {\"sum\": 0.0, \"count\": 1, \"min\": 0, \"max\": 0}, \"Number of Batches Since Last Reset\": {\"sum\": 0.0, \"count\": 1, \"min\": 0, \"max\": 0}}}\u001b[0m\n",
      "\u001b[34m[2023-04-21 00:43:42.949] [tensorio] [info] epoch_stats={\"data_pipeline\": \"/opt/ml/input/data/train\", \"epoch\": 0, \"duration\": 858, \"num_examples\": 1, \"num_bytes\": 12800}\u001b[0m\n",
      "\u001b[34m[2023-04-21 00:43:42.967] [tensorio] [info] epoch_stats={\"data_pipeline\": \"/opt/ml/input/data/train\", \"epoch\": 1, \"duration\": 13, \"num_examples\": 11, \"num_bytes\": 131200}\u001b[0m\n",
      "\u001b[34m#metrics {\"StartTime\": 1682037822.9492378, \"EndTime\": 1682037822.9681551, \"Dimensions\": {\"Algorithm\": \"PCA\", \"Host\": \"algo-1\", \"Operation\": \"training\"}, \"Metrics\": {\"epochs\": {\"sum\": 1.0, \"count\": 1, \"min\": 1, \"max\": 1}, \"update.time\": {\"sum\": 18.36419105529785, \"count\": 1, \"min\": 18.36419105529785, \"max\": 18.36419105529785}}}\u001b[0m\n",
      "\u001b[34m[04/21/2023 00:43:42 INFO 140610297489216] #progress_metric: host=algo-1, completed 100.0 % of epochs\u001b[0m\n",
      "\u001b[34m#metrics {\"StartTime\": 1682037822.9497526, \"EndTime\": 1682037822.9685197, \"Dimensions\": {\"Algorithm\": \"PCA\", \"Host\": \"algo-1\", \"Operation\": \"training\", \"epoch\": 0, \"Meta\": \"training_data_iter\"}, \"Metrics\": {\"Total Records Seen\": {\"sum\": 1025.0, \"count\": 1, \"min\": 1025, \"max\": 1025}, \"Total Batches Seen\": {\"sum\": 11.0, \"count\": 1, \"min\": 11, \"max\": 11}, \"Max Records Seen Between Resets\": {\"sum\": 1025.0, \"count\": 1, \"min\": 1025, \"max\": 1025}, \"Max Batches Seen Between Resets\": {\"sum\": 11.0, \"count\": 1, \"min\": 11, \"max\": 11}, \"Reset Count\": {\"sum\": 1.0, \"count\": 1, \"min\": 1, \"max\": 1}, \"Number of Records Since Last Reset\": {\"sum\": 1025.0, \"count\": 1, \"min\": 1025, \"max\": 1025}, \"Number of Batches Since Last Reset\": {\"sum\": 11.0, \"count\": 1, \"min\": 11, \"max\": 11}}}\u001b[0m\n",
      "\u001b[34m[04/21/2023 00:43:42 INFO 140610297489216] #throughput_metric: host=algo-1, train throughput=54236.4615792196 records/second\u001b[0m\n",
      "\u001b[34m#metrics {\"StartTime\": 1682037822.968259, \"EndTime\": 1682037822.970788, \"Dimensions\": {\"Algorithm\": \"PCA\", \"Host\": \"algo-1\", \"Operation\": \"training\"}, \"Metrics\": {\"finalize.time\": {\"sum\": 1.8701553344726562, \"count\": 1, \"min\": 1.8701553344726562, \"max\": 1.8701553344726562}}}\u001b[0m\n",
      "\u001b[34m[04/21/2023 00:43:42 INFO 140610297489216] Test data is not provided.\u001b[0m\n",
      "\u001b[34m#metrics {\"StartTime\": 1682037822.9708393, \"EndTime\": 1682037822.971291, \"Dimensions\": {\"Algorithm\": \"PCA\", \"Host\": \"algo-1\", \"Operation\": \"training\"}, \"Metrics\": {\"setuptime\": {\"sum\": 21.564245223999023, \"count\": 1, \"min\": 21.564245223999023, \"max\": 21.564245223999023}, \"totaltime\": {\"sum\": 1033.1904888153076, \"count\": 1, \"min\": 1033.1904888153076, \"max\": 1033.1904888153076}}}\u001b[0m\n",
      "\n",
      "2023-04-21 00:43:57 Uploading - Uploading generated training model\n",
      "2023-04-21 00:43:57 Completed - Training job completed\n",
      "Training seconds: 127\n",
      "Billable seconds: 127\n"
     ]
    }
   ],
   "source": [
    "# Assuming df_final is a pandas DataFrame\n",
    "feature_dim = df_final.shape[1]  # Number of columns in df_final\n",
    "num_components = round(feature_dim / 2)  # Rounded value of half of the number of columns in df_final\n",
    "role = sagemaker.get_execution_role()\n",
    "\n",
    "pca = sagemaker.estimator.Estimator(container,\n",
    "                                       role, \n",
    "                                       instance_count=1, \n",
    "                                       instance_type='ml.c4.xlarge',\n",
    "                                       output_path=output_location,\n",
    "                                       sagemaker_session=sagemaker_session)\n",
    "\n",
    "# Set hyperparameters with the calculated values for feature_dim and num_components\n",
    "pca.set_hyperparameters(feature_dim=feature_dim,\n",
    "                        num_components=num_components,\n",
    "                        subtract_mean=False,\n",
    "                        algorithm_mode='regular',\n",
    "                        mini_batch_size=100)\n",
    "\n",
    "# Pass in the training data from S3 to train the PCA model\n",
    "pca.fit({'train': s3_train_data})\n"
   ]
  },
  {
   "cell_type": "markdown",
   "metadata": {},
   "source": [
    "# TASK #8: DEPLOY THE TRAINED PCA MODEL "
   ]
  },
  {
   "cell_type": "code",
   "execution_count": 27,
   "metadata": {},
   "outputs": [
    {
     "name": "stderr",
     "output_type": "stream",
     "text": [
      "INFO:sagemaker:Creating model with name: pca-2023-04-21-00-44-19-976\n",
      "INFO:sagemaker:Creating endpoint-config with name pca-2023-04-21-00-44-19-976\n",
      "INFO:sagemaker:Creating endpoint with name pca-2023-04-21-00-44-19-976\n"
     ]
    },
    {
     "name": "stdout",
     "output_type": "stream",
     "text": [
      "-------!"
     ]
    }
   ],
   "source": [
    "# Deploy the model to perform inference \n",
    "\n",
    "pca_reduction = pca.deploy(initial_instance_count = 1,\n",
    "                                          instance_type = 'ml.m4.xlarge')"
   ]
  },
  {
   "cell_type": "code",
   "execution_count": 28,
   "metadata": {},
   "outputs": [],
   "source": [
    "from sagemaker.predictor import csv_serializer, json_deserializer\n",
    "\n",
    "pca_reduction.serializer = csv_serializer\n",
    "pca_reduction.deserializer = json_deserializer"
   ]
  },
  {
   "cell_type": "code",
   "execution_count": 29,
   "metadata": {},
   "outputs": [
    {
     "name": "stderr",
     "output_type": "stream",
     "text": [
      "WARNING:sagemaker.deprecations:The csv_serializer has been renamed in sagemaker>=2.\n",
      "See: https://sagemaker.readthedocs.io/en/stable/v2.html for details.\n",
      "WARNING:sagemaker.deprecations:The json_deserializer has been renamed in sagemaker>=2.\n",
      "See: https://sagemaker.readthedocs.io/en/stable/v2.html for details.\n"
     ]
    }
   ],
   "source": [
    "# make prediction on the test data\n",
    "\n",
    "result = pca_reduction.predict(np.array(df_final))"
   ]
  },
  {
   "cell_type": "code",
   "execution_count": 89,
   "metadata": {},
   "outputs": [
    {
     "ename": "AttributeError",
     "evalue": "'dict' object has no attribute 'head'",
     "output_type": "error",
     "traceback": [
      "\u001b[0;31m---------------------------------------------------------------------------\u001b[0m",
      "\u001b[0;31mAttributeError\u001b[0m                            Traceback (most recent call last)",
      "\u001b[0;32m<ipython-input-89-0ac1a2824636>\u001b[0m in \u001b[0;36m<module>\u001b[0;34m\u001b[0m\n\u001b[0;32m----> 1\u001b[0;31m \u001b[0mresult\u001b[0m\u001b[0;34m.\u001b[0m\u001b[0mhead\u001b[0m \u001b[0;31m# results are in Json format\u001b[0m\u001b[0;34m\u001b[0m\u001b[0;34m\u001b[0m\u001b[0m\n\u001b[0m",
      "\u001b[0;31mAttributeError\u001b[0m: 'dict' object has no attribute 'head'"
     ]
    }
   ],
   "source": [
    "result.head # results are in Json format"
   ]
  },
  {
   "cell_type": "code",
   "execution_count": 31,
   "metadata": {},
   "outputs": [],
   "source": [
    "# Access the scores by iterating through the scores in the predictions\n",
    "predictions = np.array([r['projection'] for r in result['projections']])"
   ]
  },
  {
   "cell_type": "code",
   "execution_count": 32,
   "metadata": {},
   "outputs": [
    {
     "data": {
      "text/plain": [
       "array([[  1.48361242,  -1.3243351 ,  -2.9745152 ,  11.41938305,\n",
       "         34.68186951, 300.28353882],\n",
       "       [ -0.89691937,  -2.30761814,   1.26717639,  -8.82221508,\n",
       "         37.06412506, 293.60067749],\n",
       "       [ -0.7511096 ,  -1.00278902, -13.22694492, -38.1978035 ,\n",
       "         37.50273895, 262.29544067],\n",
       "       ...,\n",
       "       [  0.57022065,  -0.3895486 ,   2.31815076,   4.14320421,\n",
       "        -44.58388138, 319.14819336],\n",
       "       [  0.76163965,   0.49166626,  -3.42524028,  23.7599144 ,\n",
       "         -3.28719687, 322.20373535],\n",
       "       [  0.46566945,  -0.56223774,  -5.34691   , -19.44548988,\n",
       "         10.09546471, 254.81996155]])"
      ]
     },
     "execution_count": 32,
     "metadata": {},
     "output_type": "execute_result"
    }
   ],
   "source": [
    "predictions"
   ]
  },
  {
   "cell_type": "code",
   "execution_count": 33,
   "metadata": {},
   "outputs": [
    {
     "data": {
      "text/plain": [
       "(1025, 6)"
      ]
     },
     "execution_count": 33,
     "metadata": {},
     "output_type": "execute_result"
    }
   ],
   "source": [
    "predictions.shape"
   ]
  },
  {
   "cell_type": "code",
   "execution_count": 34,
   "metadata": {},
   "outputs": [
    {
     "name": "stderr",
     "output_type": "stream",
     "text": [
      "INFO:sagemaker:Deleting endpoint configuration with name: pca-2023-04-21-00-44-19-976\n",
      "INFO:sagemaker:Deleting endpoint with name: pca-2023-04-21-00-44-19-976\n"
     ]
    }
   ],
   "source": [
    "# Delete the end-point\n",
    "\n",
    "pca_reduction.delete_endpoint()"
   ]
  },
  {
   "cell_type": "markdown",
   "metadata": {},
   "source": [
    "# TASK #9: TRAIN AND EVALUATE XGBOOST MODEL ON DATA AFTER DIMENSIONALITY REDUCTION (USING SAGEMAKER)"
   ]
  },
  {
   "cell_type": "code",
   "execution_count": 35,
   "metadata": {},
   "outputs": [
    {
     "data": {
      "text/plain": [
       "(1025, 6)"
      ]
     },
     "execution_count": 35,
     "metadata": {},
     "output_type": "execute_result"
    }
   ],
   "source": [
    "predictions.shape"
   ]
  },
  {
   "cell_type": "code",
   "execution_count": 36,
   "metadata": {},
   "outputs": [
    {
     "data": {
      "text/html": [
       "<div>\n",
       "<style scoped>\n",
       "    .dataframe tbody tr th:only-of-type {\n",
       "        vertical-align: middle;\n",
       "    }\n",
       "\n",
       "    .dataframe tbody tr th {\n",
       "        vertical-align: top;\n",
       "    }\n",
       "\n",
       "    .dataframe thead th {\n",
       "        text-align: right;\n",
       "    }\n",
       "</style>\n",
       "<table border=\"1\" class=\"dataframe\">\n",
       "  <thead>\n",
       "    <tr style=\"text-align: right;\">\n",
       "      <th></th>\n",
       "      <th>Target</th>\n",
       "    </tr>\n",
       "  </thead>\n",
       "  <tbody>\n",
       "    <tr>\n",
       "      <th>0</th>\n",
       "      <td>0</td>\n",
       "    </tr>\n",
       "    <tr>\n",
       "      <th>1</th>\n",
       "      <td>0</td>\n",
       "    </tr>\n",
       "    <tr>\n",
       "      <th>2</th>\n",
       "      <td>0</td>\n",
       "    </tr>\n",
       "    <tr>\n",
       "      <th>3</th>\n",
       "      <td>0</td>\n",
       "    </tr>\n",
       "    <tr>\n",
       "      <th>4</th>\n",
       "      <td>0</td>\n",
       "    </tr>\n",
       "    <tr>\n",
       "      <th>...</th>\n",
       "      <td>...</td>\n",
       "    </tr>\n",
       "    <tr>\n",
       "      <th>1020</th>\n",
       "      <td>1</td>\n",
       "    </tr>\n",
       "    <tr>\n",
       "      <th>1021</th>\n",
       "      <td>0</td>\n",
       "    </tr>\n",
       "    <tr>\n",
       "      <th>1022</th>\n",
       "      <td>0</td>\n",
       "    </tr>\n",
       "    <tr>\n",
       "      <th>1023</th>\n",
       "      <td>1</td>\n",
       "    </tr>\n",
       "    <tr>\n",
       "      <th>1024</th>\n",
       "      <td>0</td>\n",
       "    </tr>\n",
       "  </tbody>\n",
       "</table>\n",
       "<p>1025 rows × 1 columns</p>\n",
       "</div>"
      ],
      "text/plain": [
       "      Target\n",
       "0          0\n",
       "1          0\n",
       "2          0\n",
       "3          0\n",
       "4          0\n",
       "...      ...\n",
       "1020       1\n",
       "1021       0\n",
       "1022       0\n",
       "1023       1\n",
       "1024       0\n",
       "\n",
       "[1025 rows x 1 columns]"
      ]
     },
     "execution_count": 36,
     "metadata": {},
     "output_type": "execute_result"
    }
   ],
   "source": [
    "# Convert the array into dataframe with the target varibale set as the first column\n",
    "\n",
    "train_data = pd.DataFrame({'Target':df_target})\n",
    "train_data"
   ]
  },
  {
   "cell_type": "code",
   "execution_count": 37,
   "metadata": {},
   "outputs": [],
   "source": [
    "for i in range(predictions.shape[1]):\n",
    "    train_data[i] = predictions[:,i]\n",
    "    train_data.head()"
   ]
  },
  {
   "cell_type": "code",
   "execution_count": 38,
   "metadata": {},
   "outputs": [
    {
     "data": {
      "text/plain": [
       "922"
      ]
     },
     "execution_count": 38,
     "metadata": {},
     "output_type": "execute_result"
    }
   ],
   "source": [
    "train_data_size = int(0.9 * train_data.shape[0])\n",
    "train_data_size"
   ]
  },
  {
   "cell_type": "code",
   "execution_count": 57,
   "metadata": {},
   "outputs": [],
   "source": [
    "# shuffle the data and split into train, test and validation sets.\n",
    "\n",
    "import sklearn \n",
    "from sklearn.model_selection import train_test_split\n",
    "\n",
    "train_data = sklearn.utils.shuffle(train_data)\n",
    "\n",
    "# Split the dataset into train and test sets (80% train, 20% test)\n",
    "train, test = train_test_split(train_data, test_size=0.2, random_state=42)\n",
    "\n",
    "# Further split the train_df into train and validation sets (80% train, 20% validation)\n",
    "train, valid = train_test_split(train, test_size=0.25, random_state=42)"
   ]
  },
  {
   "cell_type": "code",
   "execution_count": 58,
   "metadata": {},
   "outputs": [
    {
     "data": {
      "text/plain": [
       "((615, 7), (205, 7), (205, 7))"
      ]
     },
     "execution_count": 58,
     "metadata": {},
     "output_type": "execute_result"
    }
   ],
   "source": [
    "train.shape, test.shape,valid.shape"
   ]
  },
  {
   "cell_type": "code",
   "execution_count": 59,
   "metadata": {},
   "outputs": [],
   "source": [
    "X_test, y_test = test.drop(columns = ['Target']), test['Target']"
   ]
  },
  {
   "cell_type": "code",
   "execution_count": 60,
   "metadata": {},
   "outputs": [],
   "source": [
    "# save train_data and validation_data as csv files\n",
    "\n",
    "train.to_csv('train.csv',header = False, index = False)\n",
    "valid.to_csv('valid.csv',header = False, index = False)"
   ]
  },
  {
   "cell_type": "code",
   "execution_count": 61,
   "metadata": {},
   "outputs": [],
   "source": [
    "prefix = 'XGBoost-Classifier'\n",
    "key = 'XGBoost-Classifier'"
   ]
  },
  {
   "cell_type": "code",
   "execution_count": 62,
   "metadata": {},
   "outputs": [
    {
     "name": "stdout",
     "output_type": "stream",
     "text": [
      "uploaded training data location: s3://finalproject-jmd/XGBoost-Classifier/train/XGBoost-Classifier\n"
     ]
    }
   ],
   "source": [
    "# read the data and upload to s3 bucket\n",
    "with open('train.csv','rb') as f:\n",
    "    boto3.Session().resource('s3').Bucket(bucket).Object(os.path.join(prefix, 'train', key)).upload_fileobj(f)\n",
    "    \n",
    "s3_train_data = 's3://{}/{}/train/{}'.format(bucket, prefix, key)\n",
    "print('uploaded training data location: {}'.format(s3_train_data))"
   ]
  },
  {
   "cell_type": "code",
   "execution_count": 63,
   "metadata": {},
   "outputs": [
    {
     "name": "stdout",
     "output_type": "stream",
     "text": [
      "uploaded validation data location: s3://finalproject-jmd/XGBoost-Classifier/valid/XGBoost-Classifier\n"
     ]
    }
   ],
   "source": [
    "with open('valid.csv','rb') as f:\n",
    "    boto3.Session().resource('s3').Bucket(bucket).Object(os.path.join(prefix, 'valid', key)).upload_fileobj(f)\n",
    "s3_valid_data = 's3://{}/{}/valid/{}'.format(bucket, prefix, key)\n",
    "print('uploaded validation data location: {}'.format(s3_valid_data))"
   ]
  },
  {
   "cell_type": "code",
   "execution_count": 64,
   "metadata": {},
   "outputs": [
    {
     "name": "stdout",
     "output_type": "stream",
     "text": [
      "training artifacts will be uploaded to: s3://finalproject-jmd/XGBoost-Classifier/output\n"
     ]
    }
   ],
   "source": [
    "# create output placeholder\n",
    "\n",
    "output_location = 's3://{}/{}/output'.format(bucket, prefix)\n",
    "print('training artifacts will be uploaded to: {}'.format(output_location))"
   ]
  },
  {
   "cell_type": "code",
   "execution_count": 65,
   "metadata": {},
   "outputs": [
    {
     "name": "stderr",
     "output_type": "stream",
     "text": [
      "WARNING:sagemaker.deprecations:The method get_image_uri has been renamed in sagemaker>=2.\n",
      "See: https://sagemaker.readthedocs.io/en/stable/v2.html for details.\n",
      "INFO:sagemaker.image_uris:Ignoring unnecessary instance type: None.\n"
     ]
    }
   ],
   "source": [
    "# Get the training container of sagemaker built-in algorithms for XGBoost\n",
    "\n",
    "container = get_image_uri(boto3.Session().region_name, 'xgboost','1.5-1')"
   ]
  },
  {
   "cell_type": "code",
   "execution_count": 66,
   "metadata": {},
   "outputs": [
    {
     "name": "stderr",
     "output_type": "stream",
     "text": [
      "WARNING:sagemaker.deprecations:train_instance_count has been renamed in sagemaker>=2.\n",
      "See: https://sagemaker.readthedocs.io/en/stable/v2.html for details.\n",
      "WARNING:sagemaker.deprecations:train_instance_type has been renamed in sagemaker>=2.\n",
      "See: https://sagemaker.readthedocs.io/en/stable/v2.html for details.\n"
     ]
    }
   ],
   "source": [
    "# Pass container into estimator\n",
    "\n",
    "Xgboost_classifier = sagemaker.estimator.Estimator(container,\n",
    "                                       role, \n",
    "                                       train_instance_count=1, \n",
    "                                       train_instance_type='ml.m4.xlarge',\n",
    "                                       output_path=output_location,\n",
    "                                       sagemaker_session=sagemaker_session)\n",
    "\n",
    "# Runs the hyperparameters tuning job\n",
    "\n",
    "Xgboost_classifier.set_hyperparameters(max_depth=3,\n",
    "                           objective='multi:softmax',\n",
    "                           num_class= 2,\n",
    "                           eta = 0.5,\n",
    "                           num_round = 150\n",
    "                           )"
   ]
  },
  {
   "cell_type": "code",
   "execution_count": 67,
   "metadata": {},
   "outputs": [
    {
     "name": "stderr",
     "output_type": "stream",
     "text": [
      "WARNING:sagemaker.deprecations:The class sagemaker.session.s3_input has been renamed in sagemaker>=2.\n",
      "See: https://sagemaker.readthedocs.io/en/stable/v2.html for details.\n",
      "WARNING:sagemaker.deprecations:The class sagemaker.session.s3_input has been renamed in sagemaker>=2.\n",
      "See: https://sagemaker.readthedocs.io/en/stable/v2.html for details.\n",
      "INFO:sagemaker:Creating training-job with name: sagemaker-xgboost-2023-04-21-01-18-39-121\n"
     ]
    },
    {
     "name": "stdout",
     "output_type": "stream",
     "text": [
      "2023-04-21 01:18:39 Starting - Starting the training job...\n",
      "2023-04-21 01:19:02 Starting - Preparing the instances for training......\n",
      "2023-04-21 01:19:54 Downloading - Downloading input data...\n",
      "2023-04-21 01:20:24 Training - Downloading the training image...\n",
      "2023-04-21 01:21:10 Training - Training image download completed. Training in progress..\u001b[34m[2023-04-21 01:21:19.214 ip-10-0-147-223.us-east-2.compute.internal:7 INFO utils.py:28] RULE_JOB_STOP_SIGNAL_FILENAME: None\u001b[0m\n",
      "\u001b[34m[2023-04-21 01:21:19.296 ip-10-0-147-223.us-east-2.compute.internal:7 INFO profiler_config_parser.py:111] User has disabled profiler.\u001b[0m\n",
      "\u001b[34m[2023-04-21:01:21:19:INFO] Imported framework sagemaker_xgboost_container.training\u001b[0m\n",
      "\u001b[34m[2023-04-21:01:21:19:INFO] Failed to parse hyperparameter objective value multi:softmax to Json.\u001b[0m\n",
      "\u001b[34mReturning the value itself\u001b[0m\n",
      "\u001b[34m[2023-04-21:01:21:19:INFO] No GPUs detected (normal if no gpus installed)\u001b[0m\n",
      "\u001b[34m[2023-04-21:01:21:19:INFO] Running XGBoost Sagemaker in algorithm mode\u001b[0m\n",
      "\u001b[34m[2023-04-21:01:21:19:INFO] Determined 0 GPU(s) available on the instance.\u001b[0m\n",
      "\u001b[34m[2023-04-21:01:21:19:INFO] Determined delimiter of CSV input is ','\u001b[0m\n",
      "\u001b[34m[2023-04-21:01:21:19:INFO] Determined delimiter of CSV input is ','\u001b[0m\n",
      "\u001b[34m[2023-04-21:01:21:19:INFO] files path: /opt/ml/input/data/train\u001b[0m\n",
      "\u001b[34m[2023-04-21:01:21:19:INFO] Determined delimiter of CSV input is ','\u001b[0m\n",
      "\u001b[34m[2023-04-21:01:21:19:INFO] files path: /opt/ml/input/data/validation\u001b[0m\n",
      "\u001b[34m[2023-04-21:01:21:19:INFO] Determined delimiter of CSV input is ','\u001b[0m\n",
      "\u001b[34m[2023-04-21:01:21:19:INFO] Single node training.\u001b[0m\n",
      "\u001b[34m[2023-04-21:01:21:19:INFO] Train matrix has 615 rows and 6 columns\u001b[0m\n",
      "\u001b[34m[2023-04-21:01:21:19:INFO] Validation matrix has 205 rows\u001b[0m\n",
      "\u001b[34m[2023-04-21 01:21:19.782 ip-10-0-147-223.us-east-2.compute.internal:7 INFO json_config.py:92] Creating hook from json_config at /opt/ml/input/config/debughookconfig.json.\u001b[0m\n",
      "\u001b[34m[2023-04-21 01:21:19.783 ip-10-0-147-223.us-east-2.compute.internal:7 INFO hook.py:206] tensorboard_dir has not been set for the hook. SMDebug will not be exporting tensorboard summaries.\u001b[0m\n",
      "\u001b[34m[2023-04-21 01:21:19.783 ip-10-0-147-223.us-east-2.compute.internal:7 INFO hook.py:259] Saving to /opt/ml/output/tensors\u001b[0m\n",
      "\u001b[34m[2023-04-21 01:21:19.784 ip-10-0-147-223.us-east-2.compute.internal:7 INFO state_store.py:77] The checkpoint config file /opt/ml/input/config/checkpointconfig.json does not exist.\u001b[0m\n",
      "\u001b[34m[2023-04-21:01:21:19:INFO] Debug hook created from config\u001b[0m\n",
      "\u001b[34m[01:21:19] WARNING: ../src/learner.cc:1115: Starting in XGBoost 1.3.0, the default evaluation metric used with the objective 'multi:softmax' was changed from 'merror' to 'mlogloss'. Explicitly set eval_metric if you'd like to restore the old behavior.\u001b[0m\n",
      "\u001b[34m[2023-04-21 01:21:19.811 ip-10-0-147-223.us-east-2.compute.internal:7 INFO hook.py:427] Monitoring the collections: metrics\u001b[0m\n",
      "\u001b[34m[2023-04-21 01:21:19.814 ip-10-0-147-223.us-east-2.compute.internal:7 INFO hook.py:491] Hook is writing from the hook with pid: 7\u001b[0m\n",
      "\u001b[34m[0]#011train-mlogloss:0.49973#011validation-mlogloss:0.51729\u001b[0m\n",
      "\u001b[34m[1]#011train-mlogloss:0.41748#011validation-mlogloss:0.45336\u001b[0m\n",
      "\u001b[34m[2]#011train-mlogloss:0.36091#011validation-mlogloss:0.40118\u001b[0m\n",
      "\u001b[34m[3]#011train-mlogloss:0.30807#011validation-mlogloss:0.36481\u001b[0m\n",
      "\u001b[34m[4]#011train-mlogloss:0.27602#011validation-mlogloss:0.33270\u001b[0m\n",
      "\u001b[34m[5]#011train-mlogloss:0.24660#011validation-mlogloss:0.31444\u001b[0m\n",
      "\u001b[34m[6]#011train-mlogloss:0.23578#011validation-mlogloss:0.30532\u001b[0m\n",
      "\u001b[34m[7]#011train-mlogloss:0.21690#011validation-mlogloss:0.29390\u001b[0m\n",
      "\u001b[34m[8]#011train-mlogloss:0.20011#011validation-mlogloss:0.28136\u001b[0m\n",
      "\u001b[34m[9]#011train-mlogloss:0.19076#011validation-mlogloss:0.27300\u001b[0m\n",
      "\u001b[34m[10]#011train-mlogloss:0.17977#011validation-mlogloss:0.26727\u001b[0m\n",
      "\u001b[34m[11]#011train-mlogloss:0.16354#011validation-mlogloss:0.24570\u001b[0m\n",
      "\u001b[34m[12]#011train-mlogloss:0.15124#011validation-mlogloss:0.23972\u001b[0m\n",
      "\u001b[34m[13]#011train-mlogloss:0.14511#011validation-mlogloss:0.23719\u001b[0m\n",
      "\u001b[34m[14]#011train-mlogloss:0.13244#011validation-mlogloss:0.21712\u001b[0m\n",
      "\u001b[34m[15]#011train-mlogloss:0.12812#011validation-mlogloss:0.21609\u001b[0m\n",
      "\u001b[34m[16]#011train-mlogloss:0.12097#011validation-mlogloss:0.21342\u001b[0m\n",
      "\u001b[34m[17]#011train-mlogloss:0.11117#011validation-mlogloss:0.20430\u001b[0m\n",
      "\u001b[34m[18]#011train-mlogloss:0.10693#011validation-mlogloss:0.19622\u001b[0m\n",
      "\u001b[34m[19]#011train-mlogloss:0.10280#011validation-mlogloss:0.19272\u001b[0m\n",
      "\u001b[34m[20]#011train-mlogloss:0.09596#011validation-mlogloss:0.18062\u001b[0m\n",
      "\u001b[34m[21]#011train-mlogloss:0.09305#011validation-mlogloss:0.17694\u001b[0m\n",
      "\u001b[34m[22]#011train-mlogloss:0.08905#011validation-mlogloss:0.16843\u001b[0m\n",
      "\u001b[34m[23]#011train-mlogloss:0.08718#011validation-mlogloss:0.16617\u001b[0m\n",
      "\u001b[34m[24]#011train-mlogloss:0.08568#011validation-mlogloss:0.16283\u001b[0m\n",
      "\u001b[34m[25]#011train-mlogloss:0.08163#011validation-mlogloss:0.15786\u001b[0m\n",
      "\u001b[34m[26]#011train-mlogloss:0.07552#011validation-mlogloss:0.14988\u001b[0m\n",
      "\u001b[34m[27]#011train-mlogloss:0.07085#011validation-mlogloss:0.14687\u001b[0m\n",
      "\u001b[34m[28]#011train-mlogloss:0.06968#011validation-mlogloss:0.14667\u001b[0m\n",
      "\u001b[34m[29]#011train-mlogloss:0.06636#011validation-mlogloss:0.14150\u001b[0m\n",
      "\u001b[34m[30]#011train-mlogloss:0.06428#011validation-mlogloss:0.14033\u001b[0m\n",
      "\u001b[34m[31]#011train-mlogloss:0.06021#011validation-mlogloss:0.13112\u001b[0m\n",
      "\u001b[34m[32]#011train-mlogloss:0.05581#011validation-mlogloss:0.12607\u001b[0m\n",
      "\u001b[34m[33]#011train-mlogloss:0.05250#011validation-mlogloss:0.12696\u001b[0m\n",
      "\u001b[34m[34]#011train-mlogloss:0.05146#011validation-mlogloss:0.12599\u001b[0m\n",
      "\u001b[34m[35]#011train-mlogloss:0.04935#011validation-mlogloss:0.12126\u001b[0m\n",
      "\u001b[34m[36]#011train-mlogloss:0.04704#011validation-mlogloss:0.12055\u001b[0m\n",
      "\u001b[34m[37]#011train-mlogloss:0.04613#011validation-mlogloss:0.11888\u001b[0m\n",
      "\u001b[34m[38]#011train-mlogloss:0.04200#011validation-mlogloss:0.11453\u001b[0m\n",
      "\u001b[34m[39]#011train-mlogloss:0.04018#011validation-mlogloss:0.11031\u001b[0m\n",
      "\u001b[34m[40]#011train-mlogloss:0.03798#011validation-mlogloss:0.10955\u001b[0m\n",
      "\u001b[34m[41]#011train-mlogloss:0.03587#011validation-mlogloss:0.10698\u001b[0m\n",
      "\u001b[34m[42]#011train-mlogloss:0.03496#011validation-mlogloss:0.10484\u001b[0m\n",
      "\u001b[34m[43]#011train-mlogloss:0.03322#011validation-mlogloss:0.10064\u001b[0m\n",
      "\u001b[34m[44]#011train-mlogloss:0.03211#011validation-mlogloss:0.09814\u001b[0m\n",
      "\u001b[34m[45]#011train-mlogloss:0.03147#011validation-mlogloss:0.09798\u001b[0m\n",
      "\u001b[34m[46]#011train-mlogloss:0.02926#011validation-mlogloss:0.09654\u001b[0m\n",
      "\u001b[34m[47]#011train-mlogloss:0.02762#011validation-mlogloss:0.09802\u001b[0m\n",
      "\u001b[34m[48]#011train-mlogloss:0.02709#011validation-mlogloss:0.09760\u001b[0m\n",
      "\u001b[34m[49]#011train-mlogloss:0.02548#011validation-mlogloss:0.09575\u001b[0m\n",
      "\u001b[34m[50]#011train-mlogloss:0.02399#011validation-mlogloss:0.09470\u001b[0m\n",
      "\u001b[34m[51]#011train-mlogloss:0.02336#011validation-mlogloss:0.09183\u001b[0m\n",
      "\u001b[34m[52]#011train-mlogloss:0.02272#011validation-mlogloss:0.08985\u001b[0m\n",
      "\u001b[34m[53]#011train-mlogloss:0.02153#011validation-mlogloss:0.08387\u001b[0m\n",
      "\u001b[34m[54]#011train-mlogloss:0.02094#011validation-mlogloss:0.08526\u001b[0m\n",
      "\u001b[34m[55]#011train-mlogloss:0.02066#011validation-mlogloss:0.08602\u001b[0m\n",
      "\u001b[34m[56]#011train-mlogloss:0.02004#011validation-mlogloss:0.08510\u001b[0m\n",
      "\u001b[34m[57]#011train-mlogloss:0.01868#011validation-mlogloss:0.08560\u001b[0m\n",
      "\u001b[34m[58]#011train-mlogloss:0.01799#011validation-mlogloss:0.08657\u001b[0m\n",
      "\u001b[34m[59]#011train-mlogloss:0.01747#011validation-mlogloss:0.08650\u001b[0m\n",
      "\u001b[34m[60]#011train-mlogloss:0.01674#011validation-mlogloss:0.08375\u001b[0m\n",
      "\u001b[34m[61]#011train-mlogloss:0.01622#011validation-mlogloss:0.08488\u001b[0m\n",
      "\u001b[34m[62]#011train-mlogloss:0.01567#011validation-mlogloss:0.08513\u001b[0m\n",
      "\u001b[34m[63]#011train-mlogloss:0.01540#011validation-mlogloss:0.08289\u001b[0m\n",
      "\u001b[34m[64]#011train-mlogloss:0.01504#011validation-mlogloss:0.08038\u001b[0m\n",
      "\u001b[34m[65]#011train-mlogloss:0.01461#011validation-mlogloss:0.08328\u001b[0m\n",
      "\u001b[34m[66]#011train-mlogloss:0.01437#011validation-mlogloss:0.08478\u001b[0m\n",
      "\u001b[34m[67]#011train-mlogloss:0.01388#011validation-mlogloss:0.08655\u001b[0m\n",
      "\u001b[34m[68]#011train-mlogloss:0.01363#011validation-mlogloss:0.08699\u001b[0m\n",
      "\u001b[34m[69]#011train-mlogloss:0.01335#011validation-mlogloss:0.08657\u001b[0m\n",
      "\u001b[34m[70]#011train-mlogloss:0.01278#011validation-mlogloss:0.08608\u001b[0m\n",
      "\u001b[34m[71]#011train-mlogloss:0.01247#011validation-mlogloss:0.08536\u001b[0m\n",
      "\u001b[34m[72]#011train-mlogloss:0.01206#011validation-mlogloss:0.08840\u001b[0m\n",
      "\u001b[34m[73]#011train-mlogloss:0.01183#011validation-mlogloss:0.08684\u001b[0m\n",
      "\u001b[34m[74]#011train-mlogloss:0.01156#011validation-mlogloss:0.08531\u001b[0m\n",
      "\u001b[34m[75]#011train-mlogloss:0.01123#011validation-mlogloss:0.08627\u001b[0m\n",
      "\u001b[34m[76]#011train-mlogloss:0.01098#011validation-mlogloss:0.08688\u001b[0m\n",
      "\u001b[34m[77]#011train-mlogloss:0.01075#011validation-mlogloss:0.08652\u001b[0m\n",
      "\u001b[34m[78]#011train-mlogloss:0.01061#011validation-mlogloss:0.08860\u001b[0m\n",
      "\u001b[34m[79]#011train-mlogloss:0.01039#011validation-mlogloss:0.09001\u001b[0m\n",
      "\u001b[34m[80]#011train-mlogloss:0.01017#011validation-mlogloss:0.09114\u001b[0m\n",
      "\u001b[34m[81]#011train-mlogloss:0.01000#011validation-mlogloss:0.09083\u001b[0m\n",
      "\u001b[34m[82]#011train-mlogloss:0.00968#011validation-mlogloss:0.08816\u001b[0m\n",
      "\u001b[34m[83]#011train-mlogloss:0.00946#011validation-mlogloss:0.08871\u001b[0m\n",
      "\u001b[34m[84]#011train-mlogloss:0.00923#011validation-mlogloss:0.08862\u001b[0m\n",
      "\u001b[34m[85]#011train-mlogloss:0.00912#011validation-mlogloss:0.08982\u001b[0m\n",
      "\u001b[34m[86]#011train-mlogloss:0.00901#011validation-mlogloss:0.09082\u001b[0m\n",
      "\u001b[34m[87]#011train-mlogloss:0.00883#011validation-mlogloss:0.09053\u001b[0m\n",
      "\u001b[34m[88]#011train-mlogloss:0.00871#011validation-mlogloss:0.09269\u001b[0m\n",
      "\u001b[34m[89]#011train-mlogloss:0.00852#011validation-mlogloss:0.09358\u001b[0m\n",
      "\u001b[34m[90]#011train-mlogloss:0.00845#011validation-mlogloss:0.09207\u001b[0m\n",
      "\u001b[34m[91]#011train-mlogloss:0.00833#011validation-mlogloss:0.09445\u001b[0m\n",
      "\u001b[34m[92]#011train-mlogloss:0.00822#011validation-mlogloss:0.09425\u001b[0m\n",
      "\u001b[34m[93]#011train-mlogloss:0.00815#011validation-mlogloss:0.09326\u001b[0m\n",
      "\u001b[34m[94]#011train-mlogloss:0.00800#011validation-mlogloss:0.09210\u001b[0m\n",
      "\u001b[34m[95]#011train-mlogloss:0.00788#011validation-mlogloss:0.09309\u001b[0m\n",
      "\u001b[34m[96]#011train-mlogloss:0.00781#011validation-mlogloss:0.09147\u001b[0m\n",
      "\u001b[34m[97]#011train-mlogloss:0.00767#011validation-mlogloss:0.09345\u001b[0m\n",
      "\u001b[34m[98]#011train-mlogloss:0.00754#011validation-mlogloss:0.09310\u001b[0m\n",
      "\u001b[34m[99]#011train-mlogloss:0.00748#011validation-mlogloss:0.09208\u001b[0m\n",
      "\u001b[34m[100]#011train-mlogloss:0.00736#011validation-mlogloss:0.09352\u001b[0m\n",
      "\u001b[34m[101]#011train-mlogloss:0.00726#011validation-mlogloss:0.09360\u001b[0m\n",
      "\u001b[34m[102]#011train-mlogloss:0.00717#011validation-mlogloss:0.09313\u001b[0m\n",
      "\u001b[34m[103]#011train-mlogloss:0.00697#011validation-mlogloss:0.09445\u001b[0m\n",
      "\u001b[34m[104]#011train-mlogloss:0.00692#011validation-mlogloss:0.09497\u001b[0m\n",
      "\u001b[34m[105]#011train-mlogloss:0.00681#011validation-mlogloss:0.09381\u001b[0m\n",
      "\u001b[34m[106]#011train-mlogloss:0.00675#011validation-mlogloss:0.09426\u001b[0m\n",
      "\u001b[34m[107]#011train-mlogloss:0.00664#011validation-mlogloss:0.09379\u001b[0m\n",
      "\u001b[34m[108]#011train-mlogloss:0.00651#011validation-mlogloss:0.09154\u001b[0m\n",
      "\u001b[34m[109]#011train-mlogloss:0.00643#011validation-mlogloss:0.09296\u001b[0m\n",
      "\u001b[34m[110]#011train-mlogloss:0.00637#011validation-mlogloss:0.09289\u001b[0m\n",
      "\u001b[34m[111]#011train-mlogloss:0.00626#011validation-mlogloss:0.09274\u001b[0m\n",
      "\u001b[34m[112]#011train-mlogloss:0.00614#011validation-mlogloss:0.09413\u001b[0m\n",
      "\u001b[34m[113]#011train-mlogloss:0.00608#011validation-mlogloss:0.09294\u001b[0m\n",
      "\u001b[34m[114]#011train-mlogloss:0.00603#011validation-mlogloss:0.09200\u001b[0m\n",
      "\u001b[34m[115]#011train-mlogloss:0.00598#011validation-mlogloss:0.09117\u001b[0m\n",
      "\u001b[34m[116]#011train-mlogloss:0.00592#011validation-mlogloss:0.09224\u001b[0m\n",
      "\u001b[34m[117]#011train-mlogloss:0.00587#011validation-mlogloss:0.09314\u001b[0m\n",
      "\u001b[34m[118]#011train-mlogloss:0.00582#011validation-mlogloss:0.09326\u001b[0m\n",
      "\u001b[34m[119]#011train-mlogloss:0.00577#011validation-mlogloss:0.09199\u001b[0m\n",
      "\u001b[34m[120]#011train-mlogloss:0.00572#011validation-mlogloss:0.09161\u001b[0m\n",
      "\u001b[34m[121]#011train-mlogloss:0.00568#011validation-mlogloss:0.09018\u001b[0m\n",
      "\u001b[34m[122]#011train-mlogloss:0.00563#011validation-mlogloss:0.08951\u001b[0m\n",
      "\u001b[34m[123]#011train-mlogloss:0.00558#011validation-mlogloss:0.08987\u001b[0m\n",
      "\u001b[34m[124]#011train-mlogloss:0.00551#011validation-mlogloss:0.09023\u001b[0m\n",
      "\u001b[34m[125]#011train-mlogloss:0.00544#011validation-mlogloss:0.09015\u001b[0m\n",
      "\u001b[34m[126]#011train-mlogloss:0.00539#011validation-mlogloss:0.09142\u001b[0m\n",
      "\u001b[34m[127]#011train-mlogloss:0.00535#011validation-mlogloss:0.09195\u001b[0m\n",
      "\u001b[34m[128]#011train-mlogloss:0.00532#011validation-mlogloss:0.09206\u001b[0m\n",
      "\u001b[34m[129]#011train-mlogloss:0.00528#011validation-mlogloss:0.09204\u001b[0m\n",
      "\u001b[34m[130]#011train-mlogloss:0.00525#011validation-mlogloss:0.09136\u001b[0m\n",
      "\u001b[34m[131]#011train-mlogloss:0.00521#011validation-mlogloss:0.09183\u001b[0m\n",
      "\u001b[34m[132]#011train-mlogloss:0.00515#011validation-mlogloss:0.09192\u001b[0m\n",
      "\u001b[34m[133]#011train-mlogloss:0.00512#011validation-mlogloss:0.09285\u001b[0m\n",
      "\u001b[34m[134]#011train-mlogloss:0.00507#011validation-mlogloss:0.09192\u001b[0m\n",
      "\u001b[34m[135]#011train-mlogloss:0.00504#011validation-mlogloss:0.09077\u001b[0m\n",
      "\u001b[34m[136]#011train-mlogloss:0.00500#011validation-mlogloss:0.09130\u001b[0m\n",
      "\u001b[34m[137]#011train-mlogloss:0.00497#011validation-mlogloss:0.09105\u001b[0m\n",
      "\u001b[34m[138]#011train-mlogloss:0.00493#011validation-mlogloss:0.09282\u001b[0m\n",
      "\u001b[34m[139]#011train-mlogloss:0.00490#011validation-mlogloss:0.09311\u001b[0m\n",
      "\u001b[34m[140]#011train-mlogloss:0.00488#011validation-mlogloss:0.09363\u001b[0m\n",
      "\u001b[34m[141]#011train-mlogloss:0.00483#011validation-mlogloss:0.09399\u001b[0m\n",
      "\u001b[34m[142]#011train-mlogloss:0.00480#011validation-mlogloss:0.09291\u001b[0m\n",
      "\u001b[34m[143]#011train-mlogloss:0.00477#011validation-mlogloss:0.09180\u001b[0m\n",
      "\u001b[34m[144]#011train-mlogloss:0.00471#011validation-mlogloss:0.09224\u001b[0m\n",
      "\u001b[34m[145]#011train-mlogloss:0.00468#011validation-mlogloss:0.09261\u001b[0m\n",
      "\u001b[34m[146]#011train-mlogloss:0.00464#011validation-mlogloss:0.09119\u001b[0m\n",
      "\u001b[34m[147]#011train-mlogloss:0.00461#011validation-mlogloss:0.09228\u001b[0m\n",
      "\u001b[34m[148]#011train-mlogloss:0.00457#011validation-mlogloss:0.09243\u001b[0m\n",
      "\u001b[34m[149]#011train-mlogloss:0.00456#011validation-mlogloss:0.09216\u001b[0m\n",
      "\n",
      "2023-04-21 01:21:42 Uploading - Uploading generated training model\n",
      "2023-04-21 01:21:42 Completed - Training job completed\n",
      "Training seconds: 107\n",
      "Billable seconds: 107\n"
     ]
    }
   ],
   "source": [
    "# Creates train and validation channels\n",
    "\n",
    "train_input = sagemaker.session.s3_input(s3_data = s3_train_data, content_type='csv',s3_data_type = 'S3Prefix')\n",
    "valid_input = sagemaker.session.s3_input(s3_data = s3_valid_data, content_type='csv',s3_data_type = 'S3Prefix')\n",
    "\n",
    "Xgboost_classifier.fit({'train': train_input, 'validation': valid_input})"
   ]
  },
  {
   "cell_type": "markdown",
   "metadata": {},
   "source": [
    "# Model Depolyment"
   ]
  },
  {
   "cell_type": "code",
   "execution_count": 68,
   "metadata": {},
   "outputs": [
    {
     "name": "stderr",
     "output_type": "stream",
     "text": [
      "INFO:sagemaker:Creating model with name: sagemaker-xgboost-2023-04-21-01-27-52-607\n",
      "INFO:sagemaker:Creating endpoint-config with name sagemaker-xgboost-2023-04-21-01-27-52-607\n",
      "INFO:sagemaker:Creating endpoint with name sagemaker-xgboost-2023-04-21-01-27-52-607\n"
     ]
    },
    {
     "name": "stdout",
     "output_type": "stream",
     "text": [
      "-----!"
     ]
    }
   ],
   "source": [
    "Xgboost_classifier = Xgboost_classifier.deploy(initial_instance_count = 1,\n",
    "                                          instance_type = 'ml.m4.xlarge')"
   ]
  },
  {
   "cell_type": "code",
   "execution_count": 69,
   "metadata": {},
   "outputs": [],
   "source": [
    "from sagemaker.predictor import csv_serializer, json_deserializer\n",
    "\n",
    "Xgboost_classifier.serializer = csv_serializer\n"
   ]
  },
  {
   "cell_type": "code",
   "execution_count": 70,
   "metadata": {},
   "outputs": [
    {
     "name": "stderr",
     "output_type": "stream",
     "text": [
      "WARNING:sagemaker.deprecations:The csv_serializer has been renamed in sagemaker>=2.\n",
      "See: https://sagemaker.readthedocs.io/en/stable/v2.html for details.\n"
     ]
    }
   ],
   "source": [
    "# make prediction\n",
    "\n",
    "XGB_prediction = Xgboost_classifier.predict(np.array(X_test))"
   ]
  },
  {
   "cell_type": "code",
   "execution_count": 76,
   "metadata": {},
   "outputs": [
    {
     "data": {
      "text/plain": [
       "b'0.0\\n0.0\\n1.0\\n1.0\\n1.0\\n1.0\\n0.0\\n0.0\\n0.0\\n0.0\\n1.0\\n1.0\\n1.0\\n0.0\\n0.0\\n1.0\\n1.0\\n1.0\\n1.0\\n0.0\\n0.0\\n0.0\\n0.0\\n0.0\\n0.0\\n0.0\\n1.0\\n1.0\\n1.0\\n1.0\\n0.0\\n0.0\\n0.0\\n0.0\\n1.0\\n1.0\\n1.0\\n0.0\\n1.0\\n0.0\\n0.0\\n1.0\\n1.0\\n1.0\\n1.0\\n0.0\\n1.0\\n0.0\\n1.0\\n0.0\\n1.0\\n1.0\\n0.0\\n1.0\\n1.0\\n0.0\\n0.0\\n1.0\\n0.0\\n0.0\\n0.0\\n1.0\\n1.0\\n1.0\\n0.0\\n0.0\\n0.0\\n0.0\\n1.0\\n0.0\\n1.0\\n1.0\\n0.0\\n0.0\\n0.0\\n0.0\\n1.0\\n0.0\\n1.0\\n0.0\\n1.0\\n0.0\\n1.0\\n1.0\\n1.0\\n0.0\\n1.0\\n1.0\\n1.0\\n0.0\\n1.0\\n0.0\\n1.0\\n1.0\\n1.0\\n1.0\\n0.0\\n0.0\\n1.0\\n1.0\\n0.0\\n0.0\\n0.0\\n1.0\\n0.0\\n0.0\\n0.0\\n1.0\\n0.0\\n1.0\\n0.0\\n1.0\\n1.0\\n0.0\\n1.0\\n1.0\\n0.0\\n1.0\\n0.0\\n1.0\\n1.0\\n0.0\\n1.0\\n0.0\\n1.0\\n0.0\\n1.0\\n1.0\\n1.0\\n0.0\\n0.0\\n1.0\\n1.0\\n0.0\\n0.0\\n1.0\\n0.0\\n0.0\\n1.0\\n0.0\\n0.0\\n1.0\\n1.0\\n0.0\\n0.0\\n0.0\\n1.0\\n0.0\\n0.0\\n1.0\\n0.0\\n0.0\\n0.0\\n1.0\\n0.0\\n1.0\\n0.0\\n1.0\\n0.0\\n0.0\\n0.0\\n1.0\\n0.0\\n1.0\\n0.0\\n0.0\\n0.0\\n1.0\\n0.0\\n0.0\\n0.0\\n1.0\\n1.0\\n0.0\\n1.0\\n0.0\\n1.0\\n0.0\\n1.0\\n0.0\\n0.0\\n1.0\\n0.0\\n1.0\\n1.0\\n1.0\\n0.0\\n0.0\\n0.0\\n1.0\\n0.0\\n1.0\\n0.0\\n0.0\\n1.0\\n1.0\\n1.0\\n1.0\\n0.0\\n1.0\\n1.0\\n0.0\\n0.0\\n0.0\\n0.0\\n'"
      ]
     },
     "execution_count": 76,
     "metadata": {},
     "output_type": "execute_result"
    }
   ],
   "source": [
    "XGB_prediction"
   ]
  },
  {
   "cell_type": "code",
   "execution_count": 79,
   "metadata": {},
   "outputs": [],
   "source": [
    "import numpy as np\n",
    "\n",
    "def bytes_2_array(x):\n",
    "    \n",
    "    # Decode bytes to string and replace escape characters\n",
    "    x_str = x.decode(\"utf-8\").replace(\"\\\\n\", \"\\n\")\n",
    "    \n",
    "    # Split string based on '\\n'\n",
    "    l = x_str.split('\\n')\n",
    "    \n",
    "    # Remove the empty last element\n",
    "    l.pop(-1)\n",
    "    \n",
    "    # Convert the list of strings to a list of float values\n",
    "    l = [float(i) for i in l]\n",
    "    \n",
    "    # Convert the list to a NumPy array and reshape it to a 2D array\n",
    "    l = np.array(l).astype('float32').reshape(-1, 1)\n",
    "    \n",
    "    return l\n",
    "\n",
    "predicted_values = bytes_2_array(XGB_prediction)\n"
   ]
  },
  {
   "cell_type": "code",
   "execution_count": 80,
   "metadata": {},
   "outputs": [],
   "source": [
    "predicted_values = bytes_2_array(XGB_prediction)"
   ]
  },
  {
   "cell_type": "code",
   "execution_count": 81,
   "metadata": {},
   "outputs": [
    {
     "data": {
      "text/plain": [
       "array([[0.],\n",
       "       [0.],\n",
       "       [1.],\n",
       "       [1.],\n",
       "       [1.],\n",
       "       [1.],\n",
       "       [0.],\n",
       "       [0.],\n",
       "       [0.],\n",
       "       [0.],\n",
       "       [1.],\n",
       "       [1.],\n",
       "       [1.],\n",
       "       [0.],\n",
       "       [0.],\n",
       "       [1.],\n",
       "       [1.],\n",
       "       [1.],\n",
       "       [1.],\n",
       "       [0.],\n",
       "       [0.],\n",
       "       [0.],\n",
       "       [0.],\n",
       "       [0.],\n",
       "       [0.],\n",
       "       [0.],\n",
       "       [1.],\n",
       "       [1.],\n",
       "       [1.],\n",
       "       [1.],\n",
       "       [0.],\n",
       "       [0.],\n",
       "       [0.],\n",
       "       [0.],\n",
       "       [1.],\n",
       "       [1.],\n",
       "       [1.],\n",
       "       [0.],\n",
       "       [1.],\n",
       "       [0.],\n",
       "       [0.],\n",
       "       [1.],\n",
       "       [1.],\n",
       "       [1.],\n",
       "       [1.],\n",
       "       [0.],\n",
       "       [1.],\n",
       "       [0.],\n",
       "       [1.],\n",
       "       [0.],\n",
       "       [1.],\n",
       "       [1.],\n",
       "       [0.],\n",
       "       [1.],\n",
       "       [1.],\n",
       "       [0.],\n",
       "       [0.],\n",
       "       [1.],\n",
       "       [0.],\n",
       "       [0.],\n",
       "       [0.],\n",
       "       [1.],\n",
       "       [1.],\n",
       "       [1.],\n",
       "       [0.],\n",
       "       [0.],\n",
       "       [0.],\n",
       "       [0.],\n",
       "       [1.],\n",
       "       [0.],\n",
       "       [1.],\n",
       "       [1.],\n",
       "       [0.],\n",
       "       [0.],\n",
       "       [0.],\n",
       "       [0.],\n",
       "       [1.],\n",
       "       [0.],\n",
       "       [1.],\n",
       "       [0.],\n",
       "       [1.],\n",
       "       [0.],\n",
       "       [1.],\n",
       "       [1.],\n",
       "       [1.],\n",
       "       [0.],\n",
       "       [1.],\n",
       "       [1.],\n",
       "       [1.],\n",
       "       [0.],\n",
       "       [1.],\n",
       "       [0.],\n",
       "       [1.],\n",
       "       [1.],\n",
       "       [1.],\n",
       "       [1.],\n",
       "       [0.],\n",
       "       [0.],\n",
       "       [1.],\n",
       "       [1.],\n",
       "       [0.],\n",
       "       [0.],\n",
       "       [0.],\n",
       "       [1.],\n",
       "       [0.],\n",
       "       [0.],\n",
       "       [0.],\n",
       "       [1.],\n",
       "       [0.],\n",
       "       [1.],\n",
       "       [0.],\n",
       "       [1.],\n",
       "       [1.],\n",
       "       [0.],\n",
       "       [1.],\n",
       "       [1.],\n",
       "       [0.],\n",
       "       [1.],\n",
       "       [0.],\n",
       "       [1.],\n",
       "       [1.],\n",
       "       [0.],\n",
       "       [1.],\n",
       "       [0.],\n",
       "       [1.],\n",
       "       [0.],\n",
       "       [1.],\n",
       "       [1.],\n",
       "       [1.],\n",
       "       [0.],\n",
       "       [0.],\n",
       "       [1.],\n",
       "       [1.],\n",
       "       [0.],\n",
       "       [0.],\n",
       "       [1.],\n",
       "       [0.],\n",
       "       [0.],\n",
       "       [1.],\n",
       "       [0.],\n",
       "       [0.],\n",
       "       [1.],\n",
       "       [1.],\n",
       "       [0.],\n",
       "       [0.],\n",
       "       [0.],\n",
       "       [1.],\n",
       "       [0.],\n",
       "       [0.],\n",
       "       [1.],\n",
       "       [0.],\n",
       "       [0.],\n",
       "       [0.],\n",
       "       [1.],\n",
       "       [0.],\n",
       "       [1.],\n",
       "       [0.],\n",
       "       [1.],\n",
       "       [0.],\n",
       "       [0.],\n",
       "       [0.],\n",
       "       [1.],\n",
       "       [0.],\n",
       "       [1.],\n",
       "       [0.],\n",
       "       [0.],\n",
       "       [0.],\n",
       "       [1.],\n",
       "       [0.],\n",
       "       [0.],\n",
       "       [0.],\n",
       "       [1.],\n",
       "       [1.],\n",
       "       [0.],\n",
       "       [1.],\n",
       "       [0.],\n",
       "       [1.],\n",
       "       [0.],\n",
       "       [1.],\n",
       "       [0.],\n",
       "       [0.],\n",
       "       [1.],\n",
       "       [0.],\n",
       "       [1.],\n",
       "       [1.],\n",
       "       [1.],\n",
       "       [0.],\n",
       "       [0.],\n",
       "       [0.],\n",
       "       [1.],\n",
       "       [0.],\n",
       "       [1.],\n",
       "       [0.],\n",
       "       [0.],\n",
       "       [1.],\n",
       "       [1.],\n",
       "       [1.],\n",
       "       [1.],\n",
       "       [0.],\n",
       "       [1.],\n",
       "       [1.],\n",
       "       [0.],\n",
       "       [0.],\n",
       "       [0.],\n",
       "       [0.]], dtype=float32)"
      ]
     },
     "execution_count": 81,
     "metadata": {},
     "output_type": "execute_result"
    }
   ],
   "source": [
    "predicted_values"
   ]
  },
  {
   "cell_type": "code",
   "execution_count": 83,
   "metadata": {},
   "outputs": [],
   "source": [
    "y_test = np.array(y_test)\n",
    "y_test = y_test.reshape(-1,1)"
   ]
  },
  {
   "cell_type": "code",
   "execution_count": 84,
   "metadata": {},
   "outputs": [
    {
     "data": {
      "text/plain": [
       "array([[0],\n",
       "       [0],\n",
       "       [1],\n",
       "       [1],\n",
       "       [1],\n",
       "       [1],\n",
       "       [0],\n",
       "       [0],\n",
       "       [0],\n",
       "       [0],\n",
       "       [1],\n",
       "       [1],\n",
       "       [1],\n",
       "       [0],\n",
       "       [0],\n",
       "       [1],\n",
       "       [1],\n",
       "       [1],\n",
       "       [1],\n",
       "       [0],\n",
       "       [0],\n",
       "       [0],\n",
       "       [0],\n",
       "       [0],\n",
       "       [0],\n",
       "       [0],\n",
       "       [1],\n",
       "       [1],\n",
       "       [1],\n",
       "       [1],\n",
       "       [0],\n",
       "       [0],\n",
       "       [0],\n",
       "       [0],\n",
       "       [1],\n",
       "       [1],\n",
       "       [1],\n",
       "       [0],\n",
       "       [1],\n",
       "       [0],\n",
       "       [0],\n",
       "       [1],\n",
       "       [1],\n",
       "       [1],\n",
       "       [1],\n",
       "       [0],\n",
       "       [0],\n",
       "       [0],\n",
       "       [1],\n",
       "       [0],\n",
       "       [1],\n",
       "       [1],\n",
       "       [0],\n",
       "       [1],\n",
       "       [1],\n",
       "       [0],\n",
       "       [0],\n",
       "       [1],\n",
       "       [0],\n",
       "       [0],\n",
       "       [0],\n",
       "       [1],\n",
       "       [1],\n",
       "       [1],\n",
       "       [0],\n",
       "       [0],\n",
       "       [0],\n",
       "       [0],\n",
       "       [1],\n",
       "       [0],\n",
       "       [1],\n",
       "       [1],\n",
       "       [0],\n",
       "       [0],\n",
       "       [0],\n",
       "       [0],\n",
       "       [1],\n",
       "       [0],\n",
       "       [1],\n",
       "       [0],\n",
       "       [1],\n",
       "       [0],\n",
       "       [0],\n",
       "       [1],\n",
       "       [0],\n",
       "       [0],\n",
       "       [1],\n",
       "       [1],\n",
       "       [1],\n",
       "       [0],\n",
       "       [1],\n",
       "       [0],\n",
       "       [1],\n",
       "       [1],\n",
       "       [1],\n",
       "       [1],\n",
       "       [0],\n",
       "       [0],\n",
       "       [1],\n",
       "       [1],\n",
       "       [0],\n",
       "       [0],\n",
       "       [0],\n",
       "       [1],\n",
       "       [0],\n",
       "       [1],\n",
       "       [0],\n",
       "       [1],\n",
       "       [0],\n",
       "       [0],\n",
       "       [0],\n",
       "       [1],\n",
       "       [1],\n",
       "       [0],\n",
       "       [0],\n",
       "       [1],\n",
       "       [0],\n",
       "       [1],\n",
       "       [0],\n",
       "       [1],\n",
       "       [1],\n",
       "       [0],\n",
       "       [1],\n",
       "       [0],\n",
       "       [1],\n",
       "       [0],\n",
       "       [1],\n",
       "       [1],\n",
       "       [1],\n",
       "       [0],\n",
       "       [0],\n",
       "       [1],\n",
       "       [1],\n",
       "       [0],\n",
       "       [0],\n",
       "       [1],\n",
       "       [0],\n",
       "       [0],\n",
       "       [1],\n",
       "       [0],\n",
       "       [0],\n",
       "       [1],\n",
       "       [1],\n",
       "       [0],\n",
       "       [0],\n",
       "       [0],\n",
       "       [1],\n",
       "       [0],\n",
       "       [0],\n",
       "       [1],\n",
       "       [0],\n",
       "       [0],\n",
       "       [0],\n",
       "       [1],\n",
       "       [0],\n",
       "       [1],\n",
       "       [0],\n",
       "       [1],\n",
       "       [0],\n",
       "       [0],\n",
       "       [0],\n",
       "       [1],\n",
       "       [0],\n",
       "       [1],\n",
       "       [0],\n",
       "       [0],\n",
       "       [0],\n",
       "       [1],\n",
       "       [0],\n",
       "       [0],\n",
       "       [0],\n",
       "       [0],\n",
       "       [1],\n",
       "       [0],\n",
       "       [1],\n",
       "       [0],\n",
       "       [1],\n",
       "       [0],\n",
       "       [1],\n",
       "       [0],\n",
       "       [0],\n",
       "       [1],\n",
       "       [0],\n",
       "       [1],\n",
       "       [1],\n",
       "       [1],\n",
       "       [0],\n",
       "       [0],\n",
       "       [0],\n",
       "       [1],\n",
       "       [0],\n",
       "       [1],\n",
       "       [0],\n",
       "       [0],\n",
       "       [1],\n",
       "       [0],\n",
       "       [1],\n",
       "       [1],\n",
       "       [0],\n",
       "       [0],\n",
       "       [0],\n",
       "       [0],\n",
       "       [0],\n",
       "       [0],\n",
       "       [0]])"
      ]
     },
     "execution_count": 84,
     "metadata": {},
     "output_type": "execute_result"
    }
   ],
   "source": [
    "y_test"
   ]
  },
  {
   "cell_type": "code",
   "execution_count": 85,
   "metadata": {},
   "outputs": [
    {
     "name": "stdout",
     "output_type": "stream",
     "text": [
      "Precision = 0.9494087354567995\n",
      "Recall = 0.9553140096618358\n",
      "Accuracy = 0.9512195121951219\n"
     ]
    }
   ],
   "source": [
    "# plot metrics\n",
    "\n",
    "from sklearn.metrics import precision_score, recall_score, accuracy_score\n",
    "\n",
    "print(\"Precision = {}\".format(precision_score(y_test, predicted_values, average='macro')))\n",
    "print(\"Recall = {}\".format(recall_score(y_test, predicted_values, average='macro')))\n",
    "print(\"Accuracy = {}\".format(accuracy_score(y_test, predicted_values)))"
   ]
  },
  {
   "cell_type": "code",
   "execution_count": 86,
   "metadata": {},
   "outputs": [
    {
     "data": {
      "text/plain": [
       "<matplotlib.axes._subplots.AxesSubplot at 0x7f7ba84a93d0>"
      ]
     },
     "execution_count": 86,
     "metadata": {},
     "output_type": "execute_result"
    },
    {
     "data": {
      "image/png": "[encoded data removed]",
      "text/plain": [
       "<Figure size 640x480 with 2 Axes>"
      ]
     },
     "metadata": {},
     "output_type": "display_data"
    }
   ],
   "source": [
    "# plot confusion matrix\n",
    "\n",
    "from sklearn.metrics import confusion_matrix\n",
    "cm = confusion_matrix(y_test, predicted_values)\n",
    "plt.figure()\n",
    "sns.heatmap(cm, annot=True)"
   ]
  },
  {
   "cell_type": "code",
   "execution_count": 87,
   "metadata": {},
   "outputs": [
    {
     "name": "stderr",
     "output_type": "stream",
     "text": [
      "INFO:sagemaker:Deleting endpoint configuration with name: sagemaker-xgboost-2023-04-21-01-27-52-607\n",
      "INFO:sagemaker:Deleting endpoint with name: sagemaker-xgboost-2023-04-21-01-27-52-607\n"
     ]
    }
   ],
   "source": [
    "# Delete the end-point\n",
    "\n",
    "Xgboost_classifier.delete_endpoint()"
   ]
  },
  {
   "cell_type": "code",
   "execution_count": null,
   "metadata": {},
   "outputs": [],
   "source": []
  }
 ],
 "metadata": {
  "availableInstances": [
   {
    "_defaultOrder": 0,
    "_isFastLaunch": true,
    "category": "General purpose",
    "gpuNum": 0,
    "hideHardwareSpecs": false,
    "memoryGiB": 4,
    "name": "ml.t3.medium",
    "vcpuNum": 2
   },
   {
    "_defaultOrder": 1,
    "_isFastLaunch": false,
    "category": "General purpose",
    "gpuNum": 0,
    "hideHardwareSpecs": false,
    "memoryGiB": 8,
    "name": "ml.t3.large",
    "vcpuNum": 2
   },
   {
    "_defaultOrder": 2,
    "_isFastLaunch": false,
    "category": "General purpose",
    "gpuNum": 0,
    "hideHardwareSpecs": false,
    "memoryGiB": 16,
    "name": "ml.t3.xlarge",
    "vcpuNum": 4
   },
   {
    "_defaultOrder": 3,
    "_isFastLaunch": false,
    "category": "General purpose",
    "gpuNum": 0,
    "hideHardwareSpecs": false,
    "memoryGiB": 32,
    "name": "ml.t3.2xlarge",
    "vcpuNum": 8
   },
   {
    "_defaultOrder": 4,
    "_isFastLaunch": true,
    "category": "General purpose",
    "gpuNum": 0,
    "hideHardwareSpecs": false,
    "memoryGiB": 8,
    "name": "ml.m5.large",
    "vcpuNum": 2
   },
   {
    "_defaultOrder": 5,
    "_isFastLaunch": false,
    "category": "General purpose",
    "gpuNum": 0,
    "hideHardwareSpecs": false,
    "memoryGiB": 16,
    "name": "ml.m5.xlarge",
    "vcpuNum": 4
   },
   {
    "_defaultOrder": 6,
    "_isFastLaunch": false,
    "category": "General purpose",
    "gpuNum": 0,
    "hideHardwareSpecs": false,
    "memoryGiB": 32,
    "name": "ml.m5.2xlarge",
    "vcpuNum": 8
   },
   {
    "_defaultOrder": 7,
    "_isFastLaunch": false,
    "category": "General purpose",
    "gpuNum": 0,
    "hideHardwareSpecs": false,
    "memoryGiB": 64,
    "name": "ml.m5.4xlarge",
    "vcpuNum": 16
   },
   {
    "_defaultOrder": 8,
    "_isFastLaunch": false,
    "category": "General purpose",
    "gpuNum": 0,
    "hideHardwareSpecs": false,
    "memoryGiB": 128,
    "name": "ml.m5.8xlarge",
    "vcpuNum": 32
   },
   {
    "_defaultOrder": 9,
    "_isFastLaunch": false,
    "category": "General purpose",
    "gpuNum": 0,
    "hideHardwareSpecs": false,
    "memoryGiB": 192,
    "name": "ml.m5.12xlarge",
    "vcpuNum": 48
   },
   {
    "_defaultOrder": 10,
    "_isFastLaunch": false,
    "category": "General purpose",
    "gpuNum": 0,
    "hideHardwareSpecs": false,
    "memoryGiB": 256,
    "name": "ml.m5.16xlarge",
    "vcpuNum": 64
   },
   {
    "_defaultOrder": 11,
    "_isFastLaunch": false,
    "category": "General purpose",
    "gpuNum": 0,
    "hideHardwareSpecs": false,
    "memoryGiB": 384,
    "name": "ml.m5.24xlarge",
    "vcpuNum": 96
   },
   {
    "_defaultOrder": 12,
    "_isFastLaunch": false,
    "category": "General purpose",
    "gpuNum": 0,
    "hideHardwareSpecs": false,
    "memoryGiB": 8,
    "name": "ml.m5d.large",
    "vcpuNum": 2
   },
   {
    "_defaultOrder": 13,
    "_isFastLaunch": false,
    "category": "General purpose",
    "gpuNum": 0,
    "hideHardwareSpecs": false,
    "memoryGiB": 16,
    "name": "ml.m5d.xlarge",
    "vcpuNum": 4
   },
   {
    "_defaultOrder": 14,
    "_isFastLaunch": false,
    "category": "General purpose",
    "gpuNum": 0,
    "hideHardwareSpecs": false,
    "memoryGiB": 32,
    "name": "ml.m5d.2xlarge",
    "vcpuNum": 8
   },
   {
    "_defaultOrder": 15,
    "_isFastLaunch": false,
    "category": "General purpose",
    "gpuNum": 0,
    "hideHardwareSpecs": false,
    "memoryGiB": 64,
    "name": "ml.m5d.4xlarge",
    "vcpuNum": 16
   },
   {
    "_defaultOrder": 16,
    "_isFastLaunch": false,
    "category": "General purpose",
    "gpuNum": 0,
    "hideHardwareSpecs": false,
    "memoryGiB": 128,
    "name": "ml.m5d.8xlarge",
    "vcpuNum": 32
   },
   {
    "_defaultOrder": 17,
    "_isFastLaunch": false,
    "category": "General purpose",
    "gpuNum": 0,
    "hideHardwareSpecs": false,
    "memoryGiB": 192,
    "name": "ml.m5d.12xlarge",
    "vcpuNum": 48
   },
   {
    "_defaultOrder": 18,
    "_isFastLaunch": false,
    "category": "General purpose",
    "gpuNum": 0,
    "hideHardwareSpecs": false,
    "memoryGiB": 256,
    "name": "ml.m5d.16xlarge",
    "vcpuNum": 64
   },
   {
    "_defaultOrder": 19,
    "_isFastLaunch": false,
    "category": "General purpose",
    "gpuNum": 0,
    "hideHardwareSpecs": false,
    "memoryGiB": 384,
    "name": "ml.m5d.24xlarge",
    "vcpuNum": 96
   },
   {
    "_defaultOrder": 20,
    "_isFastLaunch": false,
    "category": "General purpose",
    "gpuNum": 0,
    "hideHardwareSpecs": true,
    "memoryGiB": 0,
    "name": "ml.geospatial.interactive",
    "supportedImageNames": [
     "sagemaker-geospatial-v1-0"
    ],
    "vcpuNum": 0
   },
   {
    "_defaultOrder": 21,
    "_isFastLaunch": true,
    "category": "Compute optimized",
    "gpuNum": 0,
    "hideHardwareSpecs": false,
    "memoryGiB": 4,
    "name": "ml.c5.large",
    "vcpuNum": 2
   },
   {
    "_defaultOrder": 22,
    "_isFastLaunch": false,
    "category": "Compute optimized",
    "gpuNum": 0,
    "hideHardwareSpecs": false,
    "memoryGiB": 8,
    "name": "ml.c5.xlarge",
    "vcpuNum": 4
   },
   {
    "_defaultOrder": 23,
    "_isFastLaunch": false,
    "category": "Compute optimized",
    "gpuNum": 0,
    "hideHardwareSpecs": false,
    "memoryGiB": 16,
    "name": "ml.c5.2xlarge",
    "vcpuNum": 8
   },
   {
    "_defaultOrder": 24,
    "_isFastLaunch": false,
    "category": "Compute optimized",
    "gpuNum": 0,
    "hideHardwareSpecs": false,
    "memoryGiB": 32,
    "name": "ml.c5.4xlarge",
    "vcpuNum": 16
   },
   {
    "_defaultOrder": 25,
    "_isFastLaunch": false,
    "category": "Compute optimized",
    "gpuNum": 0,
    "hideHardwareSpecs": false,
    "memoryGiB": 72,
    "name": "ml.c5.9xlarge",
    "vcpuNum": 36
   },
   {
    "_defaultOrder": 26,
    "_isFastLaunch": false,
    "category": "Compute optimized",
    "gpuNum": 0,
    "hideHardwareSpecs": false,
    "memoryGiB": 96,
    "name": "ml.c5.12xlarge",
    "vcpuNum": 48
   },
   {
    "_defaultOrder": 27,
    "_isFastLaunch": false,
    "category": "Compute optimized",
    "gpuNum": 0,
    "hideHardwareSpecs": false,
    "memoryGiB": 144,
    "name": "ml.c5.18xlarge",
    "vcpuNum": 72
   },
   {
    "_defaultOrder": 28,
    "_isFastLaunch": false,
    "category": "Compute optimized",
    "gpuNum": 0,
    "hideHardwareSpecs": false,
    "memoryGiB": 192,
    "name": "ml.c5.24xlarge",
    "vcpuNum": 96
   },
   {
    "_defaultOrder": 29,
    "_isFastLaunch": true,
    "category": "Accelerated computing",
    "gpuNum": 1,
    "hideHardwareSpecs": false,
    "memoryGiB": 16,
    "name": "ml.g4dn.xlarge",
    "vcpuNum": 4
   },
   {
    "_defaultOrder": 30,
    "_isFastLaunch": false,
    "category": "Accelerated computing",
    "gpuNum": 1,
    "hideHardwareSpecs": false,
    "memoryGiB": 32,
    "name": "ml.g4dn.2xlarge",
    "vcpuNum": 8
   },
   {
    "_defaultOrder": 31,
    "_isFastLaunch": false,
    "category": "Accelerated computing",
    "gpuNum": 1,
    "hideHardwareSpecs": false,
    "memoryGiB": 64,
    "name": "ml.g4dn.4xlarge",
    "vcpuNum": 16
   },
   {
    "_defaultOrder": 32,
    "_isFastLaunch": false,
    "category": "Accelerated computing",
    "gpuNum": 1,
    "hideHardwareSpecs": false,
    "memoryGiB": 128,
    "name": "ml.g4dn.8xlarge",
    "vcpuNum": 32
   },
   {
    "_defaultOrder": 33,
    "_isFastLaunch": false,
    "category": "Accelerated computing",
    "gpuNum": 4,
    "hideHardwareSpecs": false,
    "memoryGiB": 192,
    "name": "ml.g4dn.12xlarge",
    "vcpuNum": 48
   },
   {
    "_defaultOrder": 34,
    "_isFastLaunch": false,
    "category": "Accelerated computing",
    "gpuNum": 1,
    "hideHardwareSpecs": false,
    "memoryGiB": 256,
    "name": "ml.g4dn.16xlarge",
    "vcpuNum": 64
   },
   {
    "_defaultOrder": 35,
    "_isFastLaunch": false,
    "category": "Accelerated computing",
    "gpuNum": 1,
    "hideHardwareSpecs": false,
    "memoryGiB": 61,
    "name": "ml.p3.2xlarge",
    "vcpuNum": 8
   },
   {
    "_defaultOrder": 36,
    "_isFastLaunch": false,
    "category": "Accelerated computing",
    "gpuNum": 4,
    "hideHardwareSpecs": false,
    "memoryGiB": 244,
    "name": "ml.p3.8xlarge",
    "vcpuNum": 32
   },
   {
    "_defaultOrder": 37,
    "_isFastLaunch": false,
    "category": "Accelerated computing",
    "gpuNum": 8,
    "hideHardwareSpecs": false,
    "memoryGiB": 488,
    "name": "ml.p3.16xlarge",
    "vcpuNum": 64
   },
   {
    "_defaultOrder": 38,
    "_isFastLaunch": false,
    "category": "Accelerated computing",
    "gpuNum": 8,
    "hideHardwareSpecs": false,
    "memoryGiB": 768,
    "name": "ml.p3dn.24xlarge",
    "vcpuNum": 96
   },
   {
    "_defaultOrder": 39,
    "_isFastLaunch": false,
    "category": "Memory Optimized",
    "gpuNum": 0,
    "hideHardwareSpecs": false,
    "memoryGiB": 16,
    "name": "ml.r5.large",
    "vcpuNum": 2
   },
   {
    "_defaultOrder": 40,
    "_isFastLaunch": false,
    "category": "Memory Optimized",
    "gpuNum": 0,
    "hideHardwareSpecs": false,
    "memoryGiB": 32,
    "name": "ml.r5.xlarge",
    "vcpuNum": 4
   },
   {
    "_defaultOrder": 41,
    "_isFastLaunch": false,
    "category": "Memory Optimized",
    "gpuNum": 0,
    "hideHardwareSpecs": false,
    "memoryGiB": 64,
    "name": "ml.r5.2xlarge",
    "vcpuNum": 8
   },
   {
    "_defaultOrder": 42,
    "_isFastLaunch": false,
    "category": "Memory Optimized",
    "gpuNum": 0,
    "hideHardwareSpecs": false,
    "memoryGiB": 128,
    "name": "ml.r5.4xlarge",
    "vcpuNum": 16
   },
   {
    "_defaultOrder": 43,
    "_isFastLaunch": false,
    "category": "Memory Optimized",
    "gpuNum": 0,
    "hideHardwareSpecs": false,
    "memoryGiB": 256,
    "name": "ml.r5.8xlarge",
    "vcpuNum": 32
   },
   {
    "_defaultOrder": 44,
    "_isFastLaunch": false,
    "category": "Memory Optimized",
    "gpuNum": 0,
    "hideHardwareSpecs": false,
    "memoryGiB": 384,
    "name": "ml.r5.12xlarge",
    "vcpuNum": 48
   },
   {
    "_defaultOrder": 45,
    "_isFastLaunch": false,
    "category": "Memory Optimized",
    "gpuNum": 0,
    "hideHardwareSpecs": false,
    "memoryGiB": 512,
    "name": "ml.r5.16xlarge",
    "vcpuNum": 64
   },
   {
    "_defaultOrder": 46,
    "_isFastLaunch": false,
    "category": "Memory Optimized",
    "gpuNum": 0,
    "hideHardwareSpecs": false,
    "memoryGiB": 768,
    "name": "ml.r5.24xlarge",
    "vcpuNum": 96
   },
   {
    "_defaultOrder": 47,
    "_isFastLaunch": false,
    "category": "Accelerated computing",
    "gpuNum": 1,
    "hideHardwareSpecs": false,
    "memoryGiB": 16,
    "name": "ml.g5.xlarge",
    "vcpuNum": 4
   },
   {
    "_defaultOrder": 48,
    "_isFastLaunch": false,
    "category": "Accelerated computing",
    "gpuNum": 1,
    "hideHardwareSpecs": false,
    "memoryGiB": 32,
    "name": "ml.g5.2xlarge",
    "vcpuNum": 8
   },
   {
    "_defaultOrder": 49,
    "_isFastLaunch": false,
    "category": "Accelerated computing",
    "gpuNum": 1,
    "hideHardwareSpecs": false,
    "memoryGiB": 64,
    "name": "ml.g5.4xlarge",
    "vcpuNum": 16
   },
   {
    "_defaultOrder": 50,
    "_isFastLaunch": false,
    "category": "Accelerated computing",
    "gpuNum": 1,
    "hideHardwareSpecs": false,
    "memoryGiB": 128,
    "name": "ml.g5.8xlarge",
    "vcpuNum": 32
   },
   {
    "_defaultOrder": 51,
    "_isFastLaunch": false,
    "category": "Accelerated computing",
    "gpuNum": 1,
    "hideHardwareSpecs": false,
    "memoryGiB": 256,
    "name": "ml.g5.16xlarge",
    "vcpuNum": 64
   },
   {
    "_defaultOrder": 52,
    "_isFastLaunch": false,
    "category": "Accelerated computing",
    "gpuNum": 4,
    "hideHardwareSpecs": false,
    "memoryGiB": 192,
    "name": "ml.g5.12xlarge",
    "vcpuNum": 48
   },
   {
    "_defaultOrder": 53,
    "_isFastLaunch": false,
    "category": "Accelerated computing",
    "gpuNum": 4,
    "hideHardwareSpecs": false,
    "memoryGiB": 384,
    "name": "ml.g5.24xlarge",
    "vcpuNum": 96
   },
   {
    "_defaultOrder": 54,
    "_isFastLaunch": false,
    "category": "Accelerated computing",
    "gpuNum": 8,
    "hideHardwareSpecs": false,
    "memoryGiB": 768,
    "name": "ml.g5.48xlarge",
    "vcpuNum": 192
   }
  ],
  "colab": {
   "collapsed_sections": [],
   "name": "Graduate_Admission_Prediction.ipynb",
   "provenance": [],
   "toc_visible": true
  },
  "instance_type": "ml.t3.medium",
  "kernelspec": {
   "display_name": "Python 3 (Data Science)",
   "language": "python",
   "name": "python3__SAGEMAKER_INTERNAL__arn:aws:sagemaker:us-east-2:429704687514:image/datascience-1.0"
  },
  "language_info": {
   "codemirror_mode": {
    "name": "ipython",
    "version": 3
   },
   "file_extension": ".py",
   "mimetype": "text/x-python",
   "name": "python",
   "nbconvert_exporter": "python",
   "pygments_lexer": "ipython3",
   "version": "3.7.10"
  }
 },
 "nbformat": 4,
 "nbformat_minor": 4
}
