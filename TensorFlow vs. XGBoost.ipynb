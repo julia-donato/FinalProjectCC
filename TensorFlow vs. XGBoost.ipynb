{
 "cells": [
  {
   "cell_type": "code",
   "execution_count": 3,
   "id": "a0d9d75b",
   "metadata": {},
   "outputs": [],
   "source": [
    "import pandas as pd\n",
    "import numpy as np\n",
    "import tensorflow as tf\n",
    "import xgboost as xgb\n",
    "from sklearn.preprocessing import StandardScaler\n",
    "from sklearn.model_selection import train_test_split\n",
    "from sklearn.metrics import accuracy_score\n",
    "\n",
    "def compare_models(X, y):\n",
    "    # Scale the features\n",
    "    scaler = StandardScaler()\n",
    "    X = scaler.fit_transform(X)\n",
    "\n",
    "    # Split the dataset into train and test sets\n",
    "    X_train, X_test, y_train, y_test = train_test_split(X, y, test_size=0.3, random_state=42)\n",
    "\n",
    "    # Build and train the TensorFlow model\n",
    "    model = tf.keras.models.Sequential([\n",
    "        tf.keras.layers.Input(shape=(X_train.shape[1],)),\n",
    "        tf.keras.layers.Dense(16, activation='relu'),\n",
    "        tf.keras.layers.Dense(1, activation='sigmoid')\n",
    "    ])\n",
    "    model.compile(optimizer='adam', loss='binary_crossentropy', metrics=['accuracy'])\n",
    "    history = model.fit(X_train, y_train, epochs=10, batch_size=16, validation_split=0.1, verbose=0)\n",
    "\n",
    "    # Evaluate the TensorFlow model\n",
    "    score = model.evaluate(X_test, y_test, verbose=0)\n",
    "\n",
    "    # Train the XGBoost model\n",
    "    xgb_clf = xgb.XGBClassifier(use_label_encoder=False, eval_metric='logloss')\n",
    "    xgb_clf.fit(X_train, y_train)\n",
    "\n",
    "    # Make predictions with the XGBoost model\n",
    "    y_pred_xgb = xgb_clf.predict(X_test)\n",
    "\n",
    "    # Calculate the accuracy of the XGBoost model\n",
    "    xgb_accuracy = accuracy_score(y_test, y_pred_xgb)\n",
    "\n",
    "    return score[1], xgb_accuracy\n"
   ]
  },
  {
   "cell_type": "code",
   "execution_count": 4,
   "id": "badcf39d",
   "metadata": {},
   "outputs": [
    {
     "name": "stderr",
     "output_type": "stream",
     "text": [
      "/Users/juliadonato/opt/anaconda3/lib/python3.9/site-packages/xgboost/sklearn.py:1395: UserWarning: `use_label_encoder` is deprecated in 1.7.0.\n",
      "  warnings.warn(\"`use_label_encoder` is deprecated in 1.7.0.\")\n"
     ]
    },
    {
     "name": "stdout",
     "output_type": "stream",
     "text": [
      "Test accuracy (TensorFlow): 0.9707602262496948\n",
      "Test accuracy (XGBoost): 0.9824561403508771\n"
     ]
    }
   ],
   "source": [
    "# Load the dataset\n",
    "data = load_breast_cancer()\n",
    "X = data.data\n",
    "y = data.target\n",
    "\n",
    "# Call the compare_models function\n",
    "tf_accuracy, xgb_accuracy = compare_models(X, y)\n",
    "\n",
    "# Print the results\n",
    "print('Test accuracy (TensorFlow):', tf_accuracy)\n",
    "print('Test accuracy (XGBoost):', xgb_accuracy)"
   ]
  },
  {
   "cell_type": "code",
   "execution_count": 20,
   "id": "2f178ffc",
   "metadata": {},
   "outputs": [
    {
     "name": "stdout",
     "output_type": "stream",
     "text": [
      "Test accuracy (TensorFlow): 80.84%\n",
      "Test accuracy (XGBoost): 99.03%\n"
     ]
    },
    {
     "name": "stderr",
     "output_type": "stream",
     "text": [
      "/Users/juliadonato/opt/anaconda3/lib/python3.9/site-packages/xgboost/sklearn.py:1395: UserWarning: `use_label_encoder` is deprecated in 1.7.0.\n",
      "  warnings.warn(\"`use_label_encoder` is deprecated in 1.7.0.\")\n"
     ]
    }
   ],
   "source": [
    "df = pd.read_csv('heart.csv')\n",
    "X = df.drop('target', axis=1)\n",
    "y = df['target']\n",
    "\n",
    "# Call the compare_models function\n",
    "tf_accuracy, xgb_accuracy = compare_models(X, y)\n",
    "\n",
    "# Print the results\n",
    "print('Test accuracy (TensorFlow): {:.2f}%'.format(tf_accuracy * 100))\n",
    "print('Test accuracy (XGBoost): {:.2f}%'.format(xgb_accuracy * 100) )"
   ]
  },
  {
   "cell_type": "code",
   "execution_count": 18,
   "id": "1cc9e728",
   "metadata": {},
   "outputs": [
    {
     "name": "stdout",
     "output_type": "stream",
     "text": [
      "Test accuracy (TensorFlow): 77.97%\n",
      "Test accuracy (XGBoost): 91.53%\n"
     ]
    },
    {
     "name": "stderr",
     "output_type": "stream",
     "text": [
      "/Users/juliadonato/opt/anaconda3/lib/python3.9/site-packages/xgboost/sklearn.py:1395: UserWarning: `use_label_encoder` is deprecated in 1.7.0.\n",
      "  warnings.warn(\"`use_label_encoder` is deprecated in 1.7.0.\")\n"
     ]
    }
   ],
   "source": [
    "data = pd.read_csv('parkinsons.data')\n",
    "data = data.drop('name', axis=1)\n",
    "# Separate features and labels\n",
    "X = data.drop('status', axis=1).values \n",
    "y = data['status'].values\n",
    "\n",
    "# Call the compare_models function\n",
    "tf_accuracy, xgb_accuracy = compare_models(X, y)\n",
    "\n",
    "# Print the results\n",
    "print('Test accuracy (TensorFlow): {:.2f}%'.format(tf_accuracy * 100))\n",
    "print('Test accuracy (XGBoost): {:.2f}%'.format(xgb_accuracy * 100) )"
   ]
  },
  {
   "cell_type": "code",
   "execution_count": 19,
   "id": "432cbb67",
   "metadata": {},
   "outputs": [
    {
     "name": "stdout",
     "output_type": "stream",
     "text": [
      "Test accuracy (TensorFlow): 54.55%\n",
      "Test accuracy (XGBoost): 86.36%\n"
     ]
    },
    {
     "name": "stderr",
     "output_type": "stream",
     "text": [
      "/Users/juliadonato/opt/anaconda3/lib/python3.9/site-packages/xgboost/sklearn.py:1395: UserWarning: `use_label_encoder` is deprecated in 1.7.0.\n",
      "  warnings.warn(\"`use_label_encoder` is deprecated in 1.7.0.\")\n"
     ]
    }
   ],
   "source": [
    "df = pd.read_csv('cervical.csv')\n",
    "X = df.drop('ca_cervix', axis=1)\n",
    "y = df['ca_cervix']\n",
    "\n",
    "# Call the compare_models function\n",
    "tf_accuracy, xgb_accuracy = compare_models(X, y)\n",
    "\n",
    "# Print the results\n",
    "print('Test accuracy (TensorFlow): {:.2f}%'.format(tf_accuracy * 100))\n",
    "print('Test accuracy (XGBoost): {:.2f}%'.format(xgb_accuracy * 100) )"
   ]
  },
  {
   "cell_type": "code",
   "execution_count": null,
   "id": "2eeb81f8",
   "metadata": {},
   "outputs": [],
   "source": []
  },
  {
   "cell_type": "code",
   "execution_count": null,
   "id": "231ef981",
   "metadata": {},
   "outputs": [],
   "source": []
  }
 ],
 "metadata": {
  "kernelspec": {
   "display_name": "Python 3 (ipykernel)",
   "language": "python",
   "name": "python3"
  },
  "language_info": {
   "codemirror_mode": {
    "name": "ipython",
    "version": 3
   },
   "file_extension": ".py",
   "mimetype": "text/x-python",
   "name": "python",
   "nbconvert_exporter": "python",
   "pygments_lexer": "ipython3",
   "version": "3.9.13"
  }
 },
 "nbformat": 4,
 "nbformat_minor": 5
}
